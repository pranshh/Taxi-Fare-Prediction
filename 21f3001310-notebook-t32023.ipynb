{
 "cells": [
  {
   "cell_type": "code",
   "execution_count": 1,
   "id": "0c59d840",
   "metadata": {
    "execution": {
     "iopub.execute_input": "2023-12-06T21:09:28.463434Z",
     "iopub.status.busy": "2023-12-06T21:09:28.462995Z",
     "iopub.status.idle": "2023-12-06T21:09:32.239832Z",
     "shell.execute_reply": "2023-12-06T21:09:32.238676Z"
    },
    "papermill": {
     "duration": 3.801308,
     "end_time": "2023-12-06T21:09:32.242267",
     "exception": false,
     "start_time": "2023-12-06T21:09:28.440959",
     "status": "completed"
    },
    "tags": []
   },
   "outputs": [
    {
     "name": "stdout",
     "output_type": "stream",
     "text": [
      "/kaggle/input/taxi-fare-guru-total-amount-prediction-challenge/sample.csv.csv\n",
      "/kaggle/input/taxi-fare-guru-total-amount-prediction-challenge/train.csv\n",
      "/kaggle/input/taxi-fare-guru-total-amount-prediction-challenge/test.csv\n"
     ]
    }
   ],
   "source": [
    "# This Python 3 environment comes with many helpful analytics libraries installed\n",
    "# It is defined by the kaggle/python Docker image: https://github.com/kaggle/docker-python\n",
    "# For example, here's several helpful packages to load\n",
    "\n",
    "import numpy as np # linear algebra\n",
    "import pandas as pd # data processing, CSV file I/O (e.g. pd.read_csv)\n",
    "import seaborn as sns\n",
    "import matplotlib.pyplot as plt\n",
    "from sklearn.model_selection import train_test_split, GridSearchCV, cross_val_score\n",
    "from sklearn.pipeline import Pipeline\n",
    "from sklearn.impute import SimpleImputer\n",
    "from sklearn.preprocessing import StandardScaler, LabelEncoder\n",
    "from sklearn.compose import ColumnTransformer\n",
    "from sklearn.linear_model import LinearRegression\n",
    "from sklearn.ensemble import RandomForestRegressor\n",
    "from sklearn.tree import DecisionTreeRegressor\n",
    "from sklearn.preprocessing import PolynomialFeatures\n",
    "from xgboost import XGBRegressor\n",
    "from sklearn.ensemble import BaggingRegressor, GradientBoostingRegressor\n",
    "from sklearn.metrics import mean_absolute_error, mean_squared_error, r2_score\n",
    "from sklearn.preprocessing import FunctionTransformer\n",
    "\n",
    "\n",
    "# Input data files are available in the read-only \"../input/\" directory\n",
    "# For example, running this (by clicking run or pressing Shift+Enter) will list all files under the input directory\n",
    "\n",
    "import os\n",
    "for dirname, _, filenames in os.walk('/kaggle/input'):\n",
    "    for filename in filenames:\n",
    "        print(os.path.join(dirname, filename))\n",
    "\n",
    "# You can write up to 20GB to the current directory (/kaggle/working/) that gets preserved as output when you create a version using \"Save & Run All\" \n",
    "# You can also write temporary files to /kaggle/temp/, but they won't be saved outside of the current session"
   ]
  },
  {
   "cell_type": "code",
   "execution_count": 2,
   "id": "0ceed1e8",
   "metadata": {
    "execution": {
     "iopub.execute_input": "2023-12-06T21:09:32.284842Z",
     "iopub.status.busy": "2023-12-06T21:09:32.284005Z",
     "iopub.status.idle": "2023-12-06T21:09:33.252642Z",
     "shell.execute_reply": "2023-12-06T21:09:33.251333Z"
    },
    "papermill": {
     "duration": 0.992957,
     "end_time": "2023-12-06T21:09:33.255193",
     "exception": false,
     "start_time": "2023-12-06T21:09:32.262236",
     "status": "completed"
    },
    "tags": []
   },
   "outputs": [
    {
     "data": {
      "text/html": [
       "<div>\n",
       "<style scoped>\n",
       "    .dataframe tbody tr th:only-of-type {\n",
       "        vertical-align: middle;\n",
       "    }\n",
       "\n",
       "    .dataframe tbody tr th {\n",
       "        vertical-align: top;\n",
       "    }\n",
       "\n",
       "    .dataframe thead th {\n",
       "        text-align: right;\n",
       "    }\n",
       "</style>\n",
       "<table border=\"1\" class=\"dataframe\">\n",
       "  <thead>\n",
       "    <tr style=\"text-align: right;\">\n",
       "      <th></th>\n",
       "      <th>VendorID</th>\n",
       "      <th>tpep_pickup_datetime</th>\n",
       "      <th>tpep_dropoff_datetime</th>\n",
       "      <th>passenger_count</th>\n",
       "      <th>trip_distance</th>\n",
       "      <th>RatecodeID</th>\n",
       "      <th>store_and_fwd_flag</th>\n",
       "      <th>PULocationID</th>\n",
       "      <th>DOLocationID</th>\n",
       "      <th>payment_type</th>\n",
       "      <th>extra</th>\n",
       "      <th>tip_amount</th>\n",
       "      <th>tolls_amount</th>\n",
       "      <th>improvement_surcharge</th>\n",
       "      <th>total_amount</th>\n",
       "      <th>congestion_surcharge</th>\n",
       "      <th>Airport_fee</th>\n",
       "    </tr>\n",
       "  </thead>\n",
       "  <tbody>\n",
       "    <tr>\n",
       "      <th>0</th>\n",
       "      <td>1</td>\n",
       "      <td>2023-06-28 17:20:21</td>\n",
       "      <td>2023-06-28 16:34:45</td>\n",
       "      <td>1.0</td>\n",
       "      <td>2.14</td>\n",
       "      <td>1.0</td>\n",
       "      <td>N</td>\n",
       "      <td>120</td>\n",
       "      <td>9</td>\n",
       "      <td>Credit Card</td>\n",
       "      <td>2.5</td>\n",
       "      <td>7.165589</td>\n",
       "      <td>0.0</td>\n",
       "      <td>1.0</td>\n",
       "      <td>20.64</td>\n",
       "      <td>2.5</td>\n",
       "      <td>0.0</td>\n",
       "    </tr>\n",
       "    <tr>\n",
       "      <th>1</th>\n",
       "      <td>0</td>\n",
       "      <td>2023-06-29 23:05:01</td>\n",
       "      <td>2023-06-29 22:01:35</td>\n",
       "      <td>1.0</td>\n",
       "      <td>2.70</td>\n",
       "      <td>1.0</td>\n",
       "      <td>N</td>\n",
       "      <td>15</td>\n",
       "      <td>215</td>\n",
       "      <td>Credit Card</td>\n",
       "      <td>3.5</td>\n",
       "      <td>6.067401</td>\n",
       "      <td>0.0</td>\n",
       "      <td>1.0</td>\n",
       "      <td>25.55</td>\n",
       "      <td>2.5</td>\n",
       "      <td>0.0</td>\n",
       "    </tr>\n",
       "    <tr>\n",
       "      <th>2</th>\n",
       "      <td>1</td>\n",
       "      <td>2023-06-30 10:19:31</td>\n",
       "      <td>2023-06-30 11:13:10</td>\n",
       "      <td>1.0</td>\n",
       "      <td>1.15</td>\n",
       "      <td>1.0</td>\n",
       "      <td>N</td>\n",
       "      <td>167</td>\n",
       "      <td>223</td>\n",
       "      <td>Credit Card</td>\n",
       "      <td>0.0</td>\n",
       "      <td>4.111547</td>\n",
       "      <td>0.0</td>\n",
       "      <td>1.0</td>\n",
       "      <td>17.64</td>\n",
       "      <td>2.5</td>\n",
       "      <td>0.0</td>\n",
       "    </tr>\n",
       "    <tr>\n",
       "      <th>3</th>\n",
       "      <td>0</td>\n",
       "      <td>2023-06-29 13:23:09</td>\n",
       "      <td>2023-06-29 14:20:01</td>\n",
       "      <td>1.0</td>\n",
       "      <td>0.40</td>\n",
       "      <td>1.0</td>\n",
       "      <td>N</td>\n",
       "      <td>128</td>\n",
       "      <td>239</td>\n",
       "      <td>Credit Card</td>\n",
       "      <td>2.5</td>\n",
       "      <td>6.411079</td>\n",
       "      <td>0.0</td>\n",
       "      <td>1.0</td>\n",
       "      <td>12.80</td>\n",
       "      <td>2.5</td>\n",
       "      <td>0.0</td>\n",
       "    </tr>\n",
       "    <tr>\n",
       "      <th>4</th>\n",
       "      <td>1</td>\n",
       "      <td>2023-06-29 22:03:32</td>\n",
       "      <td>2023-06-29 22:22:22</td>\n",
       "      <td>3.0</td>\n",
       "      <td>1.10</td>\n",
       "      <td>1.0</td>\n",
       "      <td>N</td>\n",
       "      <td>203</td>\n",
       "      <td>52</td>\n",
       "      <td>Credit Card</td>\n",
       "      <td>1.0</td>\n",
       "      <td>4.769377</td>\n",
       "      <td>0.0</td>\n",
       "      <td>1.0</td>\n",
       "      <td>18.00</td>\n",
       "      <td>2.5</td>\n",
       "      <td>0.0</td>\n",
       "    </tr>\n",
       "  </tbody>\n",
       "</table>\n",
       "</div>"
      ],
      "text/plain": [
       "   VendorID tpep_pickup_datetime tpep_dropoff_datetime  passenger_count  \\\n",
       "0         1  2023-06-28 17:20:21   2023-06-28 16:34:45              1.0   \n",
       "1         0  2023-06-29 23:05:01   2023-06-29 22:01:35              1.0   \n",
       "2         1  2023-06-30 10:19:31   2023-06-30 11:13:10              1.0   \n",
       "3         0  2023-06-29 13:23:09   2023-06-29 14:20:01              1.0   \n",
       "4         1  2023-06-29 22:03:32   2023-06-29 22:22:22              3.0   \n",
       "\n",
       "   trip_distance  RatecodeID store_and_fwd_flag  PULocationID  DOLocationID  \\\n",
       "0           2.14         1.0                  N           120             9   \n",
       "1           2.70         1.0                  N            15           215   \n",
       "2           1.15         1.0                  N           167           223   \n",
       "3           0.40         1.0                  N           128           239   \n",
       "4           1.10         1.0                  N           203            52   \n",
       "\n",
       "  payment_type  extra  tip_amount  tolls_amount  improvement_surcharge  \\\n",
       "0  Credit Card    2.5    7.165589           0.0                    1.0   \n",
       "1  Credit Card    3.5    6.067401           0.0                    1.0   \n",
       "2  Credit Card    0.0    4.111547           0.0                    1.0   \n",
       "3  Credit Card    2.5    6.411079           0.0                    1.0   \n",
       "4  Credit Card    1.0    4.769377           0.0                    1.0   \n",
       "\n",
       "   total_amount  congestion_surcharge  Airport_fee  \n",
       "0         20.64                   2.5          0.0  \n",
       "1         25.55                   2.5          0.0  \n",
       "2         17.64                   2.5          0.0  \n",
       "3         12.80                   2.5          0.0  \n",
       "4         18.00                   2.5          0.0  "
      ]
     },
     "execution_count": 2,
     "metadata": {},
     "output_type": "execute_result"
    }
   ],
   "source": [
    "train_data = pd.read_csv('/kaggle/input/taxi-fare-guru-total-amount-prediction-challenge/train.csv')\n",
    "train_data.head()"
   ]
  },
  {
   "cell_type": "code",
   "execution_count": 3,
   "id": "f0b4a700",
   "metadata": {
    "execution": {
     "iopub.execute_input": "2023-12-06T21:09:33.298477Z",
     "iopub.status.busy": "2023-12-06T21:09:33.298016Z",
     "iopub.status.idle": "2023-12-06T21:09:33.333511Z",
     "shell.execute_reply": "2023-12-06T21:09:33.332284Z"
    },
    "papermill": {
     "duration": 0.06008,
     "end_time": "2023-12-06T21:09:33.336341",
     "exception": false,
     "start_time": "2023-12-06T21:09:33.276261",
     "status": "completed"
    },
    "tags": []
   },
   "outputs": [
    {
     "data": {
      "text/html": [
       "<div>\n",
       "<style scoped>\n",
       "    .dataframe tbody tr th:only-of-type {\n",
       "        vertical-align: middle;\n",
       "    }\n",
       "\n",
       "    .dataframe tbody tr th {\n",
       "        vertical-align: top;\n",
       "    }\n",
       "\n",
       "    .dataframe thead th {\n",
       "        text-align: right;\n",
       "    }\n",
       "</style>\n",
       "<table border=\"1\" class=\"dataframe\">\n",
       "  <thead>\n",
       "    <tr style=\"text-align: right;\">\n",
       "      <th></th>\n",
       "      <th>VendorID</th>\n",
       "      <th>tpep_pickup_datetime</th>\n",
       "      <th>tpep_dropoff_datetime</th>\n",
       "      <th>passenger_count</th>\n",
       "      <th>trip_distance</th>\n",
       "      <th>RatecodeID</th>\n",
       "      <th>store_and_fwd_flag</th>\n",
       "      <th>PULocationID</th>\n",
       "      <th>DOLocationID</th>\n",
       "      <th>payment_type</th>\n",
       "      <th>extra</th>\n",
       "      <th>tip_amount</th>\n",
       "      <th>tolls_amount</th>\n",
       "      <th>improvement_surcharge</th>\n",
       "      <th>total_amount</th>\n",
       "      <th>congestion_surcharge</th>\n",
       "      <th>Airport_fee</th>\n",
       "    </tr>\n",
       "  </thead>\n",
       "  <tbody>\n",
       "    <tr>\n",
       "      <th>0</th>\n",
       "      <td>1</td>\n",
       "      <td>2023-06-28 17:20:21</td>\n",
       "      <td>2023-06-28 16:34:45</td>\n",
       "      <td>1.0</td>\n",
       "      <td>2.14</td>\n",
       "      <td>1.0</td>\n",
       "      <td>N</td>\n",
       "      <td>120</td>\n",
       "      <td>9</td>\n",
       "      <td>Credit Card</td>\n",
       "      <td>2.5</td>\n",
       "      <td>7.165589</td>\n",
       "      <td>0.0</td>\n",
       "      <td>1.0</td>\n",
       "      <td>20.64</td>\n",
       "      <td>2.5</td>\n",
       "      <td>0.0</td>\n",
       "    </tr>\n",
       "    <tr>\n",
       "      <th>1</th>\n",
       "      <td>0</td>\n",
       "      <td>2023-06-29 23:05:01</td>\n",
       "      <td>2023-06-29 22:01:35</td>\n",
       "      <td>1.0</td>\n",
       "      <td>2.70</td>\n",
       "      <td>1.0</td>\n",
       "      <td>N</td>\n",
       "      <td>15</td>\n",
       "      <td>215</td>\n",
       "      <td>Credit Card</td>\n",
       "      <td>3.5</td>\n",
       "      <td>6.067401</td>\n",
       "      <td>0.0</td>\n",
       "      <td>1.0</td>\n",
       "      <td>25.55</td>\n",
       "      <td>2.5</td>\n",
       "      <td>0.0</td>\n",
       "    </tr>\n",
       "    <tr>\n",
       "      <th>2</th>\n",
       "      <td>1</td>\n",
       "      <td>2023-06-30 10:19:31</td>\n",
       "      <td>2023-06-30 11:13:10</td>\n",
       "      <td>1.0</td>\n",
       "      <td>1.15</td>\n",
       "      <td>1.0</td>\n",
       "      <td>N</td>\n",
       "      <td>167</td>\n",
       "      <td>223</td>\n",
       "      <td>Credit Card</td>\n",
       "      <td>0.0</td>\n",
       "      <td>4.111547</td>\n",
       "      <td>0.0</td>\n",
       "      <td>1.0</td>\n",
       "      <td>17.64</td>\n",
       "      <td>2.5</td>\n",
       "      <td>0.0</td>\n",
       "    </tr>\n",
       "    <tr>\n",
       "      <th>3</th>\n",
       "      <td>0</td>\n",
       "      <td>2023-06-29 13:23:09</td>\n",
       "      <td>2023-06-29 14:20:01</td>\n",
       "      <td>1.0</td>\n",
       "      <td>0.40</td>\n",
       "      <td>1.0</td>\n",
       "      <td>N</td>\n",
       "      <td>128</td>\n",
       "      <td>239</td>\n",
       "      <td>Credit Card</td>\n",
       "      <td>2.5</td>\n",
       "      <td>6.411079</td>\n",
       "      <td>0.0</td>\n",
       "      <td>1.0</td>\n",
       "      <td>12.80</td>\n",
       "      <td>2.5</td>\n",
       "      <td>0.0</td>\n",
       "    </tr>\n",
       "    <tr>\n",
       "      <th>4</th>\n",
       "      <td>1</td>\n",
       "      <td>2023-06-29 22:03:32</td>\n",
       "      <td>2023-06-29 22:22:22</td>\n",
       "      <td>3.0</td>\n",
       "      <td>1.10</td>\n",
       "      <td>1.0</td>\n",
       "      <td>N</td>\n",
       "      <td>203</td>\n",
       "      <td>52</td>\n",
       "      <td>Credit Card</td>\n",
       "      <td>1.0</td>\n",
       "      <td>4.769377</td>\n",
       "      <td>0.0</td>\n",
       "      <td>1.0</td>\n",
       "      <td>18.00</td>\n",
       "      <td>2.5</td>\n",
       "      <td>0.0</td>\n",
       "    </tr>\n",
       "  </tbody>\n",
       "</table>\n",
       "</div>"
      ],
      "text/plain": [
       "   VendorID tpep_pickup_datetime tpep_dropoff_datetime  passenger_count  \\\n",
       "0         1  2023-06-28 17:20:21   2023-06-28 16:34:45              1.0   \n",
       "1         0  2023-06-29 23:05:01   2023-06-29 22:01:35              1.0   \n",
       "2         1  2023-06-30 10:19:31   2023-06-30 11:13:10              1.0   \n",
       "3         0  2023-06-29 13:23:09   2023-06-29 14:20:01              1.0   \n",
       "4         1  2023-06-29 22:03:32   2023-06-29 22:22:22              3.0   \n",
       "\n",
       "   trip_distance  RatecodeID store_and_fwd_flag  PULocationID  DOLocationID  \\\n",
       "0           2.14         1.0                  N           120             9   \n",
       "1           2.70         1.0                  N            15           215   \n",
       "2           1.15         1.0                  N           167           223   \n",
       "3           0.40         1.0                  N           128           239   \n",
       "4           1.10         1.0                  N           203            52   \n",
       "\n",
       "  payment_type  extra  tip_amount  tolls_amount  improvement_surcharge  \\\n",
       "0  Credit Card    2.5    7.165589           0.0                    1.0   \n",
       "1  Credit Card    3.5    6.067401           0.0                    1.0   \n",
       "2  Credit Card    0.0    4.111547           0.0                    1.0   \n",
       "3  Credit Card    2.5    6.411079           0.0                    1.0   \n",
       "4  Credit Card    1.0    4.769377           0.0                    1.0   \n",
       "\n",
       "   total_amount  congestion_surcharge  Airport_fee  \n",
       "0         20.64                   2.5          0.0  \n",
       "1         25.55                   2.5          0.0  \n",
       "2         17.64                   2.5          0.0  \n",
       "3         12.80                   2.5          0.0  \n",
       "4         18.00                   2.5          0.0  "
      ]
     },
     "execution_count": 3,
     "metadata": {},
     "output_type": "execute_result"
    }
   ],
   "source": [
    "train_data_copy = train_data.copy()\n",
    "train_data_copy.head()"
   ]
  },
  {
   "cell_type": "code",
   "execution_count": 4,
   "id": "5fce4ec9",
   "metadata": {
    "execution": {
     "iopub.execute_input": "2023-12-06T21:09:33.381736Z",
     "iopub.status.busy": "2023-12-06T21:09:33.380309Z",
     "iopub.status.idle": "2023-12-06T21:09:33.630251Z",
     "shell.execute_reply": "2023-12-06T21:09:33.629034Z"
    },
    "papermill": {
     "duration": 0.275303,
     "end_time": "2023-12-06T21:09:33.632855",
     "exception": false,
     "start_time": "2023-12-06T21:09:33.357552",
     "status": "completed"
    },
    "tags": []
   },
   "outputs": [
    {
     "data": {
      "text/html": [
       "<div>\n",
       "<style scoped>\n",
       "    .dataframe tbody tr th:only-of-type {\n",
       "        vertical-align: middle;\n",
       "    }\n",
       "\n",
       "    .dataframe tbody tr th {\n",
       "        vertical-align: top;\n",
       "    }\n",
       "\n",
       "    .dataframe thead th {\n",
       "        text-align: right;\n",
       "    }\n",
       "</style>\n",
       "<table border=\"1\" class=\"dataframe\">\n",
       "  <thead>\n",
       "    <tr style=\"text-align: right;\">\n",
       "      <th></th>\n",
       "      <th>VendorID</th>\n",
       "      <th>tpep_pickup_datetime</th>\n",
       "      <th>tpep_dropoff_datetime</th>\n",
       "      <th>passenger_count</th>\n",
       "      <th>trip_distance</th>\n",
       "      <th>RatecodeID</th>\n",
       "      <th>store_and_fwd_flag</th>\n",
       "      <th>PULocationID</th>\n",
       "      <th>DOLocationID</th>\n",
       "      <th>payment_type</th>\n",
       "      <th>extra</th>\n",
       "      <th>tip_amount</th>\n",
       "      <th>tolls_amount</th>\n",
       "      <th>improvement_surcharge</th>\n",
       "      <th>congestion_surcharge</th>\n",
       "      <th>Airport_fee</th>\n",
       "    </tr>\n",
       "  </thead>\n",
       "  <tbody>\n",
       "    <tr>\n",
       "      <th>0</th>\n",
       "      <td>1</td>\n",
       "      <td>2023-06-29 00:21:20</td>\n",
       "      <td>2023-06-29 00:25:20</td>\n",
       "      <td>1.0</td>\n",
       "      <td>4.95</td>\n",
       "      <td>1.0</td>\n",
       "      <td>N</td>\n",
       "      <td>20</td>\n",
       "      <td>3</td>\n",
       "      <td>Credit Card</td>\n",
       "      <td>1.0</td>\n",
       "      <td>6.067612</td>\n",
       "      <td>0.0</td>\n",
       "      <td>1.0</td>\n",
       "      <td>2.5</td>\n",
       "      <td>0.0</td>\n",
       "    </tr>\n",
       "    <tr>\n",
       "      <th>1</th>\n",
       "      <td>1</td>\n",
       "      <td>2023-06-30 17:44:43</td>\n",
       "      <td>2023-06-30 17:53:13</td>\n",
       "      <td>1.0</td>\n",
       "      <td>2.10</td>\n",
       "      <td>1.0</td>\n",
       "      <td>N</td>\n",
       "      <td>9</td>\n",
       "      <td>81</td>\n",
       "      <td>Credit Card</td>\n",
       "      <td>2.5</td>\n",
       "      <td>6.191269</td>\n",
       "      <td>0.0</td>\n",
       "      <td>1.0</td>\n",
       "      <td>2.5</td>\n",
       "      <td>0.0</td>\n",
       "    </tr>\n",
       "    <tr>\n",
       "      <th>2</th>\n",
       "      <td>1</td>\n",
       "      <td>2023-06-29 18:17:04</td>\n",
       "      <td>2023-06-29 19:23:48</td>\n",
       "      <td>1.0</td>\n",
       "      <td>0.95</td>\n",
       "      <td>1.0</td>\n",
       "      <td>N</td>\n",
       "      <td>92</td>\n",
       "      <td>90</td>\n",
       "      <td>Cash</td>\n",
       "      <td>2.5</td>\n",
       "      <td>3.983872</td>\n",
       "      <td>0.0</td>\n",
       "      <td>1.0</td>\n",
       "      <td>2.5</td>\n",
       "      <td>0.0</td>\n",
       "    </tr>\n",
       "    <tr>\n",
       "      <th>3</th>\n",
       "      <td>0</td>\n",
       "      <td>2023-06-30 21:33:53</td>\n",
       "      <td>2023-06-30 21:46:20</td>\n",
       "      <td>1.0</td>\n",
       "      <td>0.80</td>\n",
       "      <td>1.0</td>\n",
       "      <td>N</td>\n",
       "      <td>19</td>\n",
       "      <td>102</td>\n",
       "      <td>Credit Card</td>\n",
       "      <td>3.5</td>\n",
       "      <td>6.839341</td>\n",
       "      <td>0.0</td>\n",
       "      <td>1.0</td>\n",
       "      <td>2.5</td>\n",
       "      <td>0.0</td>\n",
       "    </tr>\n",
       "    <tr>\n",
       "      <th>4</th>\n",
       "      <td>1</td>\n",
       "      <td>2023-06-29 14:53:54</td>\n",
       "      <td>2023-06-29 15:22:17</td>\n",
       "      <td>1.0</td>\n",
       "      <td>4.01</td>\n",
       "      <td>1.0</td>\n",
       "      <td>N</td>\n",
       "      <td>131</td>\n",
       "      <td>229</td>\n",
       "      <td>Cash</td>\n",
       "      <td>0.0</td>\n",
       "      <td>1.468943</td>\n",
       "      <td>0.0</td>\n",
       "      <td>1.0</td>\n",
       "      <td>0.0</td>\n",
       "      <td>0.0</td>\n",
       "    </tr>\n",
       "  </tbody>\n",
       "</table>\n",
       "</div>"
      ],
      "text/plain": [
       "   VendorID tpep_pickup_datetime tpep_dropoff_datetime  passenger_count  \\\n",
       "0         1  2023-06-29 00:21:20   2023-06-29 00:25:20              1.0   \n",
       "1         1  2023-06-30 17:44:43   2023-06-30 17:53:13              1.0   \n",
       "2         1  2023-06-29 18:17:04   2023-06-29 19:23:48              1.0   \n",
       "3         0  2023-06-30 21:33:53   2023-06-30 21:46:20              1.0   \n",
       "4         1  2023-06-29 14:53:54   2023-06-29 15:22:17              1.0   \n",
       "\n",
       "   trip_distance  RatecodeID store_and_fwd_flag  PULocationID  DOLocationID  \\\n",
       "0           4.95         1.0                  N            20             3   \n",
       "1           2.10         1.0                  N             9            81   \n",
       "2           0.95         1.0                  N            92            90   \n",
       "3           0.80         1.0                  N            19           102   \n",
       "4           4.01         1.0                  N           131           229   \n",
       "\n",
       "  payment_type  extra  tip_amount  tolls_amount  improvement_surcharge  \\\n",
       "0  Credit Card    1.0    6.067612           0.0                    1.0   \n",
       "1  Credit Card    2.5    6.191269           0.0                    1.0   \n",
       "2         Cash    2.5    3.983872           0.0                    1.0   \n",
       "3  Credit Card    3.5    6.839341           0.0                    1.0   \n",
       "4         Cash    0.0    1.468943           0.0                    1.0   \n",
       "\n",
       "   congestion_surcharge  Airport_fee  \n",
       "0                   2.5          0.0  \n",
       "1                   2.5          0.0  \n",
       "2                   2.5          0.0  \n",
       "3                   2.5          0.0  \n",
       "4                   0.0          0.0  "
      ]
     },
     "execution_count": 4,
     "metadata": {},
     "output_type": "execute_result"
    }
   ],
   "source": [
    "test_data = pd.read_csv('/kaggle/input/taxi-fare-guru-total-amount-prediction-challenge/test.csv')\n",
    "test_data.head()"
   ]
  },
  {
   "cell_type": "code",
   "execution_count": 5,
   "id": "18b8b08e",
   "metadata": {
    "execution": {
     "iopub.execute_input": "2023-12-06T21:09:33.679622Z",
     "iopub.status.busy": "2023-12-06T21:09:33.678240Z",
     "iopub.status.idle": "2023-12-06T21:09:33.686799Z",
     "shell.execute_reply": "2023-12-06T21:09:33.685267Z"
    },
    "papermill": {
     "duration": 0.034729,
     "end_time": "2023-12-06T21:09:33.689533",
     "exception": false,
     "start_time": "2023-12-06T21:09:33.654804",
     "status": "completed"
    },
    "tags": []
   },
   "outputs": [
    {
     "data": {
      "text/plain": [
       "((175000, 17), (175000, 17))"
      ]
     },
     "execution_count": 5,
     "metadata": {},
     "output_type": "execute_result"
    }
   ],
   "source": [
    "train_data.shape, train_data_copy.shape"
   ]
  },
  {
   "cell_type": "code",
   "execution_count": 6,
   "id": "ec0ff4ef",
   "metadata": {
    "execution": {
     "iopub.execute_input": "2023-12-06T21:09:33.733819Z",
     "iopub.status.busy": "2023-12-06T21:09:33.733406Z",
     "iopub.status.idle": "2023-12-06T21:09:33.842835Z",
     "shell.execute_reply": "2023-12-06T21:09:33.841246Z"
    },
    "papermill": {
     "duration": 0.134893,
     "end_time": "2023-12-06T21:09:33.845651",
     "exception": false,
     "start_time": "2023-12-06T21:09:33.710758",
     "status": "completed"
    },
    "tags": []
   },
   "outputs": [
    {
     "name": "stdout",
     "output_type": "stream",
     "text": [
      "<class 'pandas.core.frame.DataFrame'>\n",
      "RangeIndex: 175000 entries, 0 to 174999\n",
      "Data columns (total 17 columns):\n",
      " #   Column                 Non-Null Count   Dtype  \n",
      "---  ------                 --------------   -----  \n",
      " 0   VendorID               175000 non-null  int64  \n",
      " 1   tpep_pickup_datetime   175000 non-null  object \n",
      " 2   tpep_dropoff_datetime  175000 non-null  object \n",
      " 3   passenger_count        168923 non-null  float64\n",
      " 4   trip_distance          175000 non-null  float64\n",
      " 5   RatecodeID             168923 non-null  float64\n",
      " 6   store_and_fwd_flag     168923 non-null  object \n",
      " 7   PULocationID           175000 non-null  int64  \n",
      " 8   DOLocationID           175000 non-null  int64  \n",
      " 9   payment_type           175000 non-null  object \n",
      " 10  extra                  175000 non-null  float64\n",
      " 11  tip_amount             175000 non-null  float64\n",
      " 12  tolls_amount           175000 non-null  float64\n",
      " 13  improvement_surcharge  175000 non-null  float64\n",
      " 14  total_amount           175000 non-null  float64\n",
      " 15  congestion_surcharge   168923 non-null  float64\n",
      " 16  Airport_fee            168923 non-null  float64\n",
      "dtypes: float64(10), int64(3), object(4)\n",
      "memory usage: 22.7+ MB\n"
     ]
    }
   ],
   "source": [
    "train_data_copy.info()"
   ]
  },
  {
   "cell_type": "code",
   "execution_count": 7,
   "id": "13495f15",
   "metadata": {
    "execution": {
     "iopub.execute_input": "2023-12-06T21:09:33.893104Z",
     "iopub.status.busy": "2023-12-06T21:09:33.892610Z",
     "iopub.status.idle": "2023-12-06T21:09:33.978933Z",
     "shell.execute_reply": "2023-12-06T21:09:33.977687Z"
    },
    "papermill": {
     "duration": 0.113914,
     "end_time": "2023-12-06T21:09:33.981686",
     "exception": false,
     "start_time": "2023-12-06T21:09:33.867772",
     "status": "completed"
    },
    "tags": []
   },
   "outputs": [
    {
     "data": {
      "text/plain": [
       "VendorID                    0\n",
       "tpep_pickup_datetime        0\n",
       "tpep_dropoff_datetime       0\n",
       "passenger_count          6077\n",
       "trip_distance               0\n",
       "RatecodeID               6077\n",
       "store_and_fwd_flag       6077\n",
       "PULocationID                0\n",
       "DOLocationID                0\n",
       "payment_type                0\n",
       "extra                       0\n",
       "tip_amount                  0\n",
       "tolls_amount                0\n",
       "improvement_surcharge       0\n",
       "total_amount                0\n",
       "congestion_surcharge     6077\n",
       "Airport_fee              6077\n",
       "dtype: int64"
      ]
     },
     "execution_count": 7,
     "metadata": {},
     "output_type": "execute_result"
    }
   ],
   "source": [
    "train_data_copy.isnull().sum()"
   ]
  },
  {
   "cell_type": "markdown",
   "id": "b19bfa07",
   "metadata": {
    "papermill": {
     "duration": 0.021051,
     "end_time": "2023-12-06T21:09:34.024914",
     "exception": false,
     "start_time": "2023-12-06T21:09:34.003863",
     "status": "completed"
    },
    "tags": []
   },
   "source": [
    "# Visualisation"
   ]
  },
  {
   "cell_type": "code",
   "execution_count": 8,
   "id": "0af93eb5",
   "metadata": {
    "execution": {
     "iopub.execute_input": "2023-12-06T21:09:34.072475Z",
     "iopub.status.busy": "2023-12-06T21:09:34.071445Z",
     "iopub.status.idle": "2023-12-06T21:09:34.299809Z",
     "shell.execute_reply": "2023-12-06T21:09:34.298398Z"
    },
    "papermill": {
     "duration": 0.255689,
     "end_time": "2023-12-06T21:09:34.303166",
     "exception": false,
     "start_time": "2023-12-06T21:09:34.047477",
     "status": "completed"
    },
    "tags": []
   },
   "outputs": [],
   "source": [
    "# Converting pickup and dropoff columns to datetime format\n",
    "train_data_copy['tpep_pickup_datetime'] = pd.to_datetime(train_data_copy['tpep_pickup_datetime'])\n",
    "train_data_copy['tpep_dropoff_datetime'] = pd.to_datetime(train_data_copy['tpep_dropoff_datetime'])\n",
    "\n",
    "# Extracting features from pickup datetime\n",
    "# train_data_copy['pickup_hour'] = train_data_copy['tpep_pickup_datetime'].dt.hour\n",
    "# train_data_copy['pickup_day'] = train_data_copy['tpep_pickup_datetime'].dt.day\n",
    "# train_data_copy['pickup_month'] = train_data_copy['tpep_pickup_datetime'].dt.month\n",
    "train_data_copy['pickup_day_of_week'] = train_data_copy['tpep_pickup_datetime'].dt.dayofweek\n",
    "\n",
    "# Extracting features from dropoff datetime\n",
    "# train_data_copy['dropoff_hour'] = train_data_copy['tpep_dropoff_datetime'].dt.hour\n",
    "# train_data_copy['dropoff_day'] = train_data_copy['tpep_dropoff_datetime'].dt.day\n",
    "# train_data_copy['dropoff_month'] = train_data_copy['tpep_dropoff_datetime'].dt.month\n",
    "train_data_copy['dropoff_day_of_week'] = train_data_copy['tpep_dropoff_datetime'].dt.dayofweek\n",
    "\n",
    "# Calculating duration of the trip in minutes\n",
    "train_data_copy['trip_duration_minutes'] = (train_data_copy['tpep_dropoff_datetime'] - train_data_copy['tpep_pickup_datetime']).dt.total_seconds() / 60\n",
    "\n",
    "# Drop the original datetime columns\n",
    "train_data_copy = train_data_copy.drop(['tpep_pickup_datetime', 'tpep_dropoff_datetime'], axis=1)\n"
   ]
  },
  {
   "cell_type": "code",
   "execution_count": 9,
   "id": "f58f1cd1",
   "metadata": {
    "execution": {
     "iopub.execute_input": "2023-12-06T21:09:34.348445Z",
     "iopub.status.busy": "2023-12-06T21:09:34.348039Z",
     "iopub.status.idle": "2023-12-06T21:09:34.403777Z",
     "shell.execute_reply": "2023-12-06T21:09:34.402406Z"
    },
    "papermill": {
     "duration": 0.081885,
     "end_time": "2023-12-06T21:09:34.406659",
     "exception": false,
     "start_time": "2023-12-06T21:09:34.324774",
     "status": "completed"
    },
    "tags": []
   },
   "outputs": [
    {
     "name": "stdout",
     "output_type": "stream",
     "text": [
      "<class 'pandas.core.frame.DataFrame'>\n",
      "RangeIndex: 175000 entries, 0 to 174999\n",
      "Data columns (total 18 columns):\n",
      " #   Column                 Non-Null Count   Dtype  \n",
      "---  ------                 --------------   -----  \n",
      " 0   VendorID               175000 non-null  int64  \n",
      " 1   passenger_count        168923 non-null  float64\n",
      " 2   trip_distance          175000 non-null  float64\n",
      " 3   RatecodeID             168923 non-null  float64\n",
      " 4   store_and_fwd_flag     168923 non-null  object \n",
      " 5   PULocationID           175000 non-null  int64  \n",
      " 6   DOLocationID           175000 non-null  int64  \n",
      " 7   payment_type           175000 non-null  object \n",
      " 8   extra                  175000 non-null  float64\n",
      " 9   tip_amount             175000 non-null  float64\n",
      " 10  tolls_amount           175000 non-null  float64\n",
      " 11  improvement_surcharge  175000 non-null  float64\n",
      " 12  total_amount           175000 non-null  float64\n",
      " 13  congestion_surcharge   168923 non-null  float64\n",
      " 14  Airport_fee            168923 non-null  float64\n",
      " 15  pickup_day_of_week     175000 non-null  int32  \n",
      " 16  dropoff_day_of_week    175000 non-null  int32  \n",
      " 17  trip_duration_minutes  175000 non-null  float64\n",
      "dtypes: float64(11), int32(2), int64(3), object(2)\n",
      "memory usage: 22.7+ MB\n"
     ]
    }
   ],
   "source": [
    "train_data_copy.info()"
   ]
  },
  {
   "cell_type": "code",
   "execution_count": 10,
   "id": "02a823ce",
   "metadata": {
    "execution": {
     "iopub.execute_input": "2023-12-06T21:09:34.451842Z",
     "iopub.status.busy": "2023-12-06T21:09:34.451455Z",
     "iopub.status.idle": "2023-12-06T21:09:34.605371Z",
     "shell.execute_reply": "2023-12-06T21:09:34.604253Z"
    },
    "papermill": {
     "duration": 0.180013,
     "end_time": "2023-12-06T21:09:34.608393",
     "exception": false,
     "start_time": "2023-12-06T21:09:34.428380",
     "status": "completed"
    },
    "tags": []
   },
   "outputs": [],
   "source": [
    "# Encoding store_and_fwd_flag and payment_type columns with Label Encoder for visualisation\n",
    "label_encoder = LabelEncoder()\n",
    "\n",
    "train_data_copy['store_and_fwd_flag_encoded'] = label_encoder.fit_transform(train_data_copy['store_and_fwd_flag'])\n",
    "train_data_copy['payment_type_encoded'] = label_encoder.fit_transform(train_data_copy['payment_type'])\n",
    "\n",
    "train_data_copy = train_data_copy.drop('store_and_fwd_flag', axis=1)\n",
    "train_data_copy = train_data_copy.drop('payment_type', axis=1)"
   ]
  },
  {
   "cell_type": "code",
   "execution_count": 11,
   "id": "c95d8cd8",
   "metadata": {
    "execution": {
     "iopub.execute_input": "2023-12-06T21:09:34.720951Z",
     "iopub.status.busy": "2023-12-06T21:09:34.720563Z",
     "iopub.status.idle": "2023-12-06T21:09:34.741146Z",
     "shell.execute_reply": "2023-12-06T21:09:34.739396Z"
    },
    "papermill": {
     "duration": 0.047441,
     "end_time": "2023-12-06T21:09:34.743650",
     "exception": false,
     "start_time": "2023-12-06T21:09:34.696209",
     "status": "completed"
    },
    "tags": []
   },
   "outputs": [
    {
     "name": "stdout",
     "output_type": "stream",
     "text": [
      "<class 'pandas.core.frame.DataFrame'>\n",
      "RangeIndex: 175000 entries, 0 to 174999\n",
      "Data columns (total 18 columns):\n",
      " #   Column                      Non-Null Count   Dtype  \n",
      "---  ------                      --------------   -----  \n",
      " 0   VendorID                    175000 non-null  int64  \n",
      " 1   passenger_count             168923 non-null  float64\n",
      " 2   trip_distance               175000 non-null  float64\n",
      " 3   RatecodeID                  168923 non-null  float64\n",
      " 4   PULocationID                175000 non-null  int64  \n",
      " 5   DOLocationID                175000 non-null  int64  \n",
      " 6   extra                       175000 non-null  float64\n",
      " 7   tip_amount                  175000 non-null  float64\n",
      " 8   tolls_amount                175000 non-null  float64\n",
      " 9   improvement_surcharge       175000 non-null  float64\n",
      " 10  total_amount                175000 non-null  float64\n",
      " 11  congestion_surcharge        168923 non-null  float64\n",
      " 12  Airport_fee                 168923 non-null  float64\n",
      " 13  pickup_day_of_week          175000 non-null  int32  \n",
      " 14  dropoff_day_of_week         175000 non-null  int32  \n",
      " 15  trip_duration_minutes       175000 non-null  float64\n",
      " 16  store_and_fwd_flag_encoded  175000 non-null  int64  \n",
      " 17  payment_type_encoded        175000 non-null  int64  \n",
      "dtypes: float64(11), int32(2), int64(5)\n",
      "memory usage: 22.7 MB\n"
     ]
    }
   ],
   "source": [
    "train_data_copy.info()"
   ]
  },
  {
   "cell_type": "code",
   "execution_count": 12,
   "id": "d9b99ef7",
   "metadata": {
    "execution": {
     "iopub.execute_input": "2023-12-06T21:09:34.789904Z",
     "iopub.status.busy": "2023-12-06T21:09:34.789472Z",
     "iopub.status.idle": "2023-12-06T21:09:36.457265Z",
     "shell.execute_reply": "2023-12-06T21:09:36.456185Z"
    },
    "papermill": {
     "duration": 1.696831,
     "end_time": "2023-12-06T21:09:36.462372",
     "exception": false,
     "start_time": "2023-12-06T21:09:34.765541",
     "status": "completed"
    },
    "tags": []
   },
   "outputs": [
    {
     "data": {
      "image/png": "[encoded data removed]",
      "text/plain": [
       "<Figure size 1000x1000 with 2 Axes>"
      ]
     },
     "metadata": {},
     "output_type": "display_data"
    }
   ],
   "source": [
    "#Correlation Matrix Heatmap with all columns\n",
    "\n",
    "correlation_matrix = train_data_copy[train_data_copy.columns].corr()\n",
    "\n",
    "correlation_with_target_column = train_data_copy[train_data_copy.columns].apply(lambda x: x.corr(train_data_copy['total_amount']))\n",
    "\n",
    "correlation_matrix['total_amount'] = correlation_with_target_column\n",
    "\n",
    "plt.figure(figsize=(10, 10))\n",
    "sns.heatmap(correlation_matrix, annot = True, cmap = 'coolwarm', fmt = \".2f\", linewidths = 0.5)\n",
    "plt.title(\"Correlation Matrix Heatmap with 'total_amount'\")\n",
    "plt.show()"
   ]
  },
  {
   "cell_type": "markdown",
   "id": "8e4e8ff3",
   "metadata": {
    "papermill": {
     "duration": 0.025806,
     "end_time": "2023-12-06T21:09:36.514854",
     "exception": false,
     "start_time": "2023-12-06T21:09:36.489048",
     "status": "completed"
    },
    "tags": []
   },
   "source": [
    "## Insights\n",
    "\n",
    "1. As expected, VendorID, RatecodeID, PULocationID, DOLocationID, pickup_day_of_the_week, dropoff_day_of_the_week, trip_duration_in_minutes, store_and_fwd_flag have almost negligible correlation with Total Amount\n",
    "2. Surprisingly, passenger_count and trip_distance show similar results\n",
    "3. We can drop these columns from the dataframe\n",
    "4. Toll Amount, Tip Amount and Airport Fee show the highest correlation with Total Amount"
   ]
  },
  {
   "cell_type": "code",
   "execution_count": 13,
   "id": "a17f16e2",
   "metadata": {
    "execution": {
     "iopub.execute_input": "2023-12-06T21:09:36.569235Z",
     "iopub.status.busy": "2023-12-06T21:09:36.568432Z",
     "iopub.status.idle": "2023-12-06T21:09:36.890679Z",
     "shell.execute_reply": "2023-12-06T21:09:36.889173Z"
    },
    "papermill": {
     "duration": 0.353104,
     "end_time": "2023-12-06T21:09:36.893735",
     "exception": false,
     "start_time": "2023-12-06T21:09:36.540631",
     "status": "completed"
    },
    "tags": []
   },
   "outputs": [
    {
     "data": {
      "image/png": "[encoded data removed]",
      "text/plain": [
       "<Figure size 640x480 with 1 Axes>"
      ]
     },
     "metadata": {},
     "output_type": "display_data"
    }
   ],
   "source": [
    "# Histogram of passenger_count column\n",
    "\n",
    "plt.hist(train_data_copy['passenger_count'], bins=range(1, 8), edgecolor='black', alpha=0.8)\n",
    "plt.title('Histogram of Passenger Count')\n",
    "plt.xlabel('Passenger Count')\n",
    "plt.ylabel('Frequency')\n",
    "\n",
    "plt.show()"
   ]
  },
  {
   "cell_type": "markdown",
   "id": "f4488f4c",
   "metadata": {
    "papermill": {
     "duration": 0.027101,
     "end_time": "2023-12-06T21:09:36.948830",
     "exception": false,
     "start_time": "2023-12-06T21:09:36.921729",
     "status": "completed"
    },
    "tags": []
   },
   "source": [
    "## Insights\n",
    "\n",
    "1. 1 passenger is the most frequent\n",
    "2. Probably why it didn't affect the total_amount"
   ]
  },
  {
   "cell_type": "code",
   "execution_count": 14,
   "id": "078ea6f1",
   "metadata": {
    "execution": {
     "iopub.execute_input": "2023-12-06T21:09:37.005856Z",
     "iopub.status.busy": "2023-12-06T21:09:37.005414Z",
     "iopub.status.idle": "2023-12-06T21:09:37.466512Z",
     "shell.execute_reply": "2023-12-06T21:09:37.465293Z"
    },
    "papermill": {
     "duration": 0.493163,
     "end_time": "2023-12-06T21:09:37.469368",
     "exception": false,
     "start_time": "2023-12-06T21:09:36.976205",
     "status": "completed"
    },
    "tags": []
   },
   "outputs": [
    {
     "data": {
      "image/png": "[encoded data removed]",
      "text/plain": [
       "<Figure size 600x300 with 1 Axes>"
      ]
     },
     "metadata": {},
     "output_type": "display_data"
    }
   ],
   "source": [
    "# Histogram of payment_type column from the original dataset where it wasn't encoded\n",
    "\n",
    "#Checking the type and count of each unique value of the columnn 'payment_types' by plotting a histogram\n",
    "plt.figure(figsize=(6, 3))\n",
    "train_data['payment_type'].value_counts().plot(kind='bar', color='orange', edgecolor='black')\n",
    "\n",
    "# Adding labels and title\n",
    "plt.title('Histogram of Payment Types')\n",
    "plt.xlabel('Payment Type')\n",
    "plt.ylabel('Count')\n",
    "\n",
    "# Display the plot\n",
    "plt.show()"
   ]
  },
  {
   "cell_type": "markdown",
   "id": "0661be49",
   "metadata": {
    "papermill": {
     "duration": 0.028744,
     "end_time": "2023-12-06T21:09:37.526981",
     "exception": false,
     "start_time": "2023-12-06T21:09:37.498237",
     "status": "completed"
    },
    "tags": []
   },
   "source": [
    "## Insights\n",
    "\n",
    "1. Credit Card type payments reign supreme over other types by a huge margin\n",
    "2. Similar case as passenger_count"
   ]
  },
  {
   "cell_type": "markdown",
   "id": "2b60a85e",
   "metadata": {
    "papermill": {
     "duration": 0.027479,
     "end_time": "2023-12-06T21:09:37.581208",
     "exception": false,
     "start_time": "2023-12-06T21:09:37.553729",
     "status": "completed"
    },
    "tags": []
   },
   "source": [
    "# Pipeline"
   ]
  },
  {
   "cell_type": "code",
   "execution_count": 15,
   "id": "01009f8b",
   "metadata": {
    "execution": {
     "iopub.execute_input": "2023-12-06T21:09:37.636414Z",
     "iopub.status.busy": "2023-12-06T21:09:37.635953Z",
     "iopub.status.idle": "2023-12-06T21:09:37.739948Z",
     "shell.execute_reply": "2023-12-06T21:09:37.738665Z"
    },
    "papermill": {
     "duration": 0.134949,
     "end_time": "2023-12-06T21:09:37.742736",
     "exception": false,
     "start_time": "2023-12-06T21:09:37.607787",
     "status": "completed"
    },
    "tags": []
   },
   "outputs": [],
   "source": [
    "# Splitting the train dataset\n",
    "features = train_data.drop(columns=['total_amount'])\n",
    "target = train_data['total_amount']\n",
    "\n",
    "X_train, X_test, y_train, y_test = train_test_split(features, target, test_size=0.2, random_state=42)"
   ]
  },
  {
   "cell_type": "code",
   "execution_count": 16,
   "id": "bb5f1121",
   "metadata": {
    "execution": {
     "iopub.execute_input": "2023-12-06T21:09:37.799770Z",
     "iopub.status.busy": "2023-12-06T21:09:37.799355Z",
     "iopub.status.idle": "2023-12-06T21:09:37.805811Z",
     "shell.execute_reply": "2023-12-06T21:09:37.804954Z"
    },
    "papermill": {
     "duration": 0.037246,
     "end_time": "2023-12-06T21:09:37.808174",
     "exception": false,
     "start_time": "2023-12-06T21:09:37.770928",
     "status": "completed"
    },
    "tags": []
   },
   "outputs": [],
   "source": [
    "# Dropping some of the irrelevant columns\n",
    "columns_to_drop = ['VendorID', 'tpep_pickup_datetime', 'tpep_dropoff_datetime', 'RatecodeID', 'store_and_fwd_flag', 'PULocationID', 'DOLocationID', ]\n",
    "\n",
    "drop_columns_transformer = Pipeline(steps=[('column_dropper', \n",
    "                                            FunctionTransformer(lambda x: x.drop(columns=columns_to_drop), validate=False))])\n",
    "\n",
    "# Creating a transformer to drop columns\n",
    "drop_columns_transformer = Pipeline(steps=[\n",
    "    ('column_dropper', FunctionTransformer(lambda x: x.drop(columns=columns_to_drop), validate=False))\n",
    "])"
   ]
  },
  {
   "cell_type": "code",
   "execution_count": 17,
   "id": "0583d160",
   "metadata": {
    "execution": {
     "iopub.execute_input": "2023-12-06T21:09:37.865525Z",
     "iopub.status.busy": "2023-12-06T21:09:37.864702Z",
     "iopub.status.idle": "2023-12-06T21:09:37.870339Z",
     "shell.execute_reply": "2023-12-06T21:09:37.869413Z"
    },
    "papermill": {
     "duration": 0.037715,
     "end_time": "2023-12-06T21:09:37.872898",
     "exception": false,
     "start_time": "2023-12-06T21:09:37.835183",
     "status": "completed"
    },
    "tags": []
   },
   "outputs": [],
   "source": [
    "# Defining numerical and categorical features with missing values for imputation\n",
    "numerical_features = ['passenger_count', 'trip_distance', 'extra', 'tip_amount']\n",
    "categorical_features = ['payment_type']\n",
    "\n",
    "# Creating transformers for numerical and categorical features\n",
    "numerical_transformer = Pipeline(steps=[\n",
    "    ('imputer', SimpleImputer(strategy='mean')),\n",
    "    ('scaler', StandardScaler())\n",
    "])"
   ]
  },
  {
   "cell_type": "code",
   "execution_count": 18,
   "id": "543e4b3e",
   "metadata": {
    "execution": {
     "iopub.execute_input": "2023-12-06T21:09:37.929055Z",
     "iopub.status.busy": "2023-12-06T21:09:37.928282Z",
     "iopub.status.idle": "2023-12-06T21:09:37.933392Z",
     "shell.execute_reply": "2023-12-06T21:09:37.932461Z"
    },
    "papermill": {
     "duration": 0.036422,
     "end_time": "2023-12-06T21:09:37.936052",
     "exception": false,
     "start_time": "2023-12-06T21:09:37.899630",
     "status": "completed"
    },
    "tags": []
   },
   "outputs": [],
   "source": [
    "# Creating a transformer for label encoding the 'payment_type' column\n",
    "label_encode_transformer = Pipeline(steps=[\n",
    "    ('label_encoder', FunctionTransformer(lambda x: x.apply(LabelEncoder().fit_transform)))\n",
    "])"
   ]
  },
  {
   "cell_type": "code",
   "execution_count": 19,
   "id": "2d4b4ec0",
   "metadata": {
    "execution": {
     "iopub.execute_input": "2023-12-06T21:09:37.993517Z",
     "iopub.status.busy": "2023-12-06T21:09:37.993063Z",
     "iopub.status.idle": "2023-12-06T21:09:37.999664Z",
     "shell.execute_reply": "2023-12-06T21:09:37.998043Z"
    },
    "papermill": {
     "duration": 0.038669,
     "end_time": "2023-12-06T21:09:38.002717",
     "exception": false,
     "start_time": "2023-12-06T21:09:37.964048",
     "status": "completed"
    },
    "tags": []
   },
   "outputs": [],
   "source": [
    "# Combining transformers using ColumnTransformer\n",
    "preprocessor = ColumnTransformer(\n",
    "    transformers=[\n",
    "        ('drop_columns', drop_columns_transformer, columns_to_drop),\n",
    "        ('num', numerical_transformer, numerical_features),\n",
    "        ('cat', label_encode_transformer, ['payment_type']),  # Apply label encoding to 'payment_type'\n",
    "    ])"
   ]
  },
  {
   "cell_type": "code",
   "execution_count": 20,
   "id": "463262dd",
   "metadata": {
    "execution": {
     "iopub.execute_input": "2023-12-06T21:09:38.062654Z",
     "iopub.status.busy": "2023-12-06T21:09:38.061648Z",
     "iopub.status.idle": "2023-12-06T21:09:38.066767Z",
     "shell.execute_reply": "2023-12-06T21:09:38.065891Z"
    },
    "papermill": {
     "duration": 0.037348,
     "end_time": "2023-12-06T21:09:38.069138",
     "exception": false,
     "start_time": "2023-12-06T21:09:38.031790",
     "status": "completed"
    },
    "tags": []
   },
   "outputs": [],
   "source": [
    "# # Full pipeline with a Linear Regressor\n",
    "# model_lr = Pipeline(steps=[('preprocessor', preprocessor),\n",
    "#                                 ('regressor', LinearRegression())])\n",
    "\n",
    "# # Fit the model to the training data\n",
    "# model_lr.fit(X_train, y_train)\n",
    "\n",
    "# # Predictions on the test set\n",
    "# y_pred = model_lr.predict(X_test)\n",
    "\n",
    "# # Evaluating the model\n",
    "# r2_lr = r2_score(y_test, y_pred)\n",
    "# mae_lr = mean_absolute_error(y_test, y_pred)\n",
    "# mse_lr = mean_squared_error(y_test, y_pred)\n",
    "\n",
    "# print('Linear Regressor')\n",
    "# print(f'R-squared : {r2_lr}')\n",
    "# #0.4590424849963851\n",
    "# print(f'Mean Absolute Error (MAE) : {mae_lr}')\n",
    "# #11.45050848135547\n",
    "# print(f'Mean Squared Error (MSE) : {mse_lr}')\n",
    "# #352.03251228991786"
   ]
  },
  {
   "cell_type": "code",
   "execution_count": 21,
   "id": "edebd961",
   "metadata": {
    "execution": {
     "iopub.execute_input": "2023-12-06T21:09:38.130060Z",
     "iopub.status.busy": "2023-12-06T21:09:38.129337Z",
     "iopub.status.idle": "2023-12-06T21:09:38.133766Z",
     "shell.execute_reply": "2023-12-06T21:09:38.132871Z"
    },
    "papermill": {
     "duration": 0.037067,
     "end_time": "2023-12-06T21:09:38.136567",
     "exception": false,
     "start_time": "2023-12-06T21:09:38.099500",
     "status": "completed"
    },
    "tags": []
   },
   "outputs": [],
   "source": [
    "# # Applying cross-validation on the Linear Regressor\n",
    "# cv_scores = cross_val_score(model_lr, X_train, y_train, cv=10, scoring='r2')\n",
    "# print(\"Cross-validated R² scores:\", cv_scores)\n",
    "# print(\"Mean R²:\", cv_scores.mean())\n",
    "# print(\"Standard Deviation R²:\", cv_scores.std())\n",
    "\n",
    "# Cross-validated R² scores: [0.45101375 0.43388485 0.4385543  0.42631261 0.4844447  0.44414524\n",
    "#  0.44772583 0.4546209  0.42084081 0.27174921]\n",
    "# Mean R²: 0.42732922118146205\n",
    "# Standard Deviation R²: 0.054483045086313145"
   ]
  },
  {
   "cell_type": "code",
   "execution_count": 22,
   "id": "eeb0878e",
   "metadata": {
    "execution": {
     "iopub.execute_input": "2023-12-06T21:09:38.197946Z",
     "iopub.status.busy": "2023-12-06T21:09:38.196863Z",
     "iopub.status.idle": "2023-12-06T21:09:38.202658Z",
     "shell.execute_reply": "2023-12-06T21:09:38.201728Z"
    },
    "papermill": {
     "duration": 0.039001,
     "end_time": "2023-12-06T21:09:38.205562",
     "exception": false,
     "start_time": "2023-12-06T21:09:38.166561",
     "status": "completed"
    },
    "tags": []
   },
   "outputs": [],
   "source": [
    "# # Full pipeline with a Decision Tree Regressor\n",
    "# model_dtr = Pipeline(steps=[('preprocessor', preprocessor),\n",
    "#                               ('regressor', DecisionTreeRegressor(random_state=42))])\n",
    "\n",
    "# # Fit the model to the training data\n",
    "# model_dtr.fit(X_train, y_train)\n",
    "\n",
    "# # Predictions on the test set\n",
    "# y_pred = model_dtr.predict(X_test)\n",
    "\n",
    "# # Evaluating the model\n",
    "# r2_dtr = r2_score(y_test, y_pred)\n",
    "# mae_dtr = mean_absolute_error(y_test, y_pred)\n",
    "# mse_dtr = mean_squared_error(y_test, y_pred)\n",
    "\n",
    "# print('Decision Tree Regressor')\n",
    "# print(f'R-squared : {r2_dtr}')\n",
    "# #0.8269670612605542\n",
    "# print(f'Mean Absolute Error (MAE) (Decision Tree Regressor): {mae_dtr}')\n",
    "# #4.763699142857144\n",
    "# print(f'Mean Squared Error (MSE) (Decision Tree Regressor): {mse_dtr}')\n",
    "# #112.6025952942857"
   ]
  },
  {
   "cell_type": "code",
   "execution_count": 23,
   "id": "6b66ea42",
   "metadata": {
    "execution": {
     "iopub.execute_input": "2023-12-06T21:09:38.262848Z",
     "iopub.status.busy": "2023-12-06T21:09:38.261960Z",
     "iopub.status.idle": "2023-12-06T21:09:38.266844Z",
     "shell.execute_reply": "2023-12-06T21:09:38.265934Z"
    },
    "papermill": {
     "duration": 0.036428,
     "end_time": "2023-12-06T21:09:38.269452",
     "exception": false,
     "start_time": "2023-12-06T21:09:38.233024",
     "status": "completed"
    },
    "tags": []
   },
   "outputs": [],
   "source": [
    "# # Applying cross-validation on the Decision Tree Regressor\n",
    "# cv_scores = cross_val_score(model_dtr, X_train, y_train, cv=10, scoring='r2')\n",
    "# print(\"Cross-validated R² scores:\", cv_scores)\n",
    "# print(\"Mean R²:\", cv_scores.mean())\n",
    "# print(\"Standard Deviation R²:\", cv_scores.std())\n",
    "\n",
    "# Cross-validated R² scores: [0.79532028 0.78952276 0.73659207 0.78512573 0.76755054 0.75773959\n",
    "#  0.78440352 0.79064567 0.76378324 0.71742319]\n",
    "# Mean R²: 0.7688106594517273\n",
    "# Standard Deviation R²: 0.024384377785067548"
   ]
  },
  {
   "cell_type": "code",
   "execution_count": 24,
   "id": "0c8b8094",
   "metadata": {
    "execution": {
     "iopub.execute_input": "2023-12-06T21:09:38.326982Z",
     "iopub.status.busy": "2023-12-06T21:09:38.326020Z",
     "iopub.status.idle": "2023-12-06T21:09:38.331136Z",
     "shell.execute_reply": "2023-12-06T21:09:38.330364Z"
    },
    "papermill": {
     "duration": 0.035685,
     "end_time": "2023-12-06T21:09:38.333399",
     "exception": false,
     "start_time": "2023-12-06T21:09:38.297714",
     "status": "completed"
    },
    "tags": []
   },
   "outputs": [],
   "source": [
    "# # #Full pipeline with a Random Forest Regressor\n",
    "# model_rfr = Pipeline(steps=[('preprocessor', preprocessor),\n",
    "#                         ('regressor', RandomForestRegressor(random_state=42))])\n",
    "\n",
    "# # #Fit the model to the training data\n",
    "# model_rfr.fit(X_train, y_train)\n",
    "\n",
    "# # #Predictions on the test set\n",
    "# y_pred = model_rfr.predict(X_test)\n",
    "\n",
    "# # #Evaluating the model\n",
    "# r2_rfr = r2_score(y_test, y_pred)\n",
    "# mae_rfr = mean_absolute_error(y_test, y_pred)\n",
    "# mse_rfr = mean_squared_error(y_test, y_pred)\n",
    "\n",
    "# print('Random Forest Regressor')\n",
    "# print(f'R-squared : {r2_rfr}')\n",
    "# #0.8937360943727466\n",
    "# print(f'Mean Absolute Error (MAE) : {mae_rfr}')\n",
    "# #3.7518812928571426\n",
    "# print(f'Mean Squared Error (MSE) : {mse_rfr}')\n",
    "# #69.15210275515035"
   ]
  },
  {
   "cell_type": "code",
   "execution_count": 25,
   "id": "d3768c08",
   "metadata": {
    "execution": {
     "iopub.execute_input": "2023-12-06T21:09:38.390261Z",
     "iopub.status.busy": "2023-12-06T21:09:38.389593Z",
     "iopub.status.idle": "2023-12-06T21:09:38.393737Z",
     "shell.execute_reply": "2023-12-06T21:09:38.392897Z"
    },
    "papermill": {
     "duration": 0.035481,
     "end_time": "2023-12-06T21:09:38.396022",
     "exception": false,
     "start_time": "2023-12-06T21:09:38.360541",
     "status": "completed"
    },
    "tags": []
   },
   "outputs": [],
   "source": [
    "# # Applying cross-validation on the Random Forest Regressor\n",
    "# # cv_scores = cross_val_score(model_rfr, X_train, y_train, cv=5, scoring='r2')\n",
    "# # print(\"Cross-validated R² scores:\", cv_scores)\n",
    "# # print(\"Mean R²:\", cv_scores.mean())\n",
    "# # print(\"Standard Deviation R²:\", cv_scores.std())\n",
    "\n",
    "# Cross-validated R² scores: [0.86748497 0.86585187 0.87087769 0.8689381  0.83310333]\n",
    "# Mean R²: 0.8612511917724699\n",
    "# Standard Deviation R²: 0.014171000398241316"
   ]
  },
  {
   "cell_type": "code",
   "execution_count": 26,
   "id": "ef59faee",
   "metadata": {
    "execution": {
     "iopub.execute_input": "2023-12-06T21:09:38.454272Z",
     "iopub.status.busy": "2023-12-06T21:09:38.453518Z",
     "iopub.status.idle": "2023-12-06T21:09:38.459141Z",
     "shell.execute_reply": "2023-12-06T21:09:38.457830Z"
    },
    "papermill": {
     "duration": 0.0382,
     "end_time": "2023-12-06T21:09:38.461792",
     "exception": false,
     "start_time": "2023-12-06T21:09:38.423592",
     "status": "completed"
    },
    "tags": []
   },
   "outputs": [],
   "source": [
    "# # HPT for better r2 score\n",
    "# model_rfr = Pipeline(steps=[('preprocessor', preprocessor),\n",
    "#                              ('regressor', RandomForestRegressor(random_state=42))])\n",
    "\n",
    "# # Defining the parameter grid for hyperparameter tuning\n",
    "# param_grid = {\n",
    "#     'regressor__n_estimators': [100, 200, 300],\n",
    "#     'regressor__max_depth': [None, 15, 20, 25],\n",
    "#     'regressor__min_samples_split': [2, 5, 10],\n",
    "#     'regressor__min_samples_leaf': [1, 2, 4]\n",
    "# }\n",
    "\n",
    "# # Use GridSearchCV for hyperparameter tuning\n",
    "# grid_search = GridSearchCV(model_rfr, param_grid, cv = 5, scoring = 'r2', verbose = 2, n_jobs = -1)\n",
    "\n",
    "# # Fit the model with hyperparameter tuning\n",
    "# grid_search.fit(X_train, y_train)\n",
    "\n",
    "# # Print the best hyperparameters\n",
    "# print(\"Best Hyperparameters:\", grid_search.best_params_)\n",
    "\n",
    "# # Predictions on the test set with the best model\n",
    "# y_pred_tuned = grid_search.predict(X_test)\n",
    "\n",
    "# # Evaluate the tuned model\n",
    "# r2_tuned = r2_score(y_test, y_pred_tuned)\n",
    "\n",
    "# print(f'R-squared (Random Forest Regressor - Tuned): {r2_tuned}')\n",
    "# # Best Hyperparameters: {'regressor__max_depth': 10, 'regressor__n_estimators': 200}\n",
    "# # R-squared (Random Forest Regressor - Tuned): 0.905894511224275"
   ]
  },
  {
   "cell_type": "code",
   "execution_count": 27,
   "id": "756e5d43",
   "metadata": {
    "execution": {
     "iopub.execute_input": "2023-12-06T21:09:38.520217Z",
     "iopub.status.busy": "2023-12-06T21:09:38.519568Z",
     "iopub.status.idle": "2023-12-06T21:09:38.524408Z",
     "shell.execute_reply": "2023-12-06T21:09:38.523514Z"
    },
    "papermill": {
     "duration": 0.037466,
     "end_time": "2023-12-06T21:09:38.526635",
     "exception": false,
     "start_time": "2023-12-06T21:09:38.489169",
     "status": "completed"
    },
    "tags": []
   },
   "outputs": [],
   "source": [
    "# # Full Pipeline with XGBoost \n",
    "# model_xgb = Pipeline(steps=[\n",
    "#     ('preprocessor', preprocessor),\n",
    "#     ('regressor', XGBRegressor(random_state=42))\n",
    "# ])\n",
    "\n",
    "# # Fitting the model\n",
    "# model_xgb.fit(X_train, y_train)\n",
    "\n",
    "# # Make predictions on the test set\n",
    "# y_pred = model_xgb.predict(X_test)\n",
    "\n",
    "# # Evaluating the model\n",
    "# r2_xgb = r2_score(y_test, y_pred)\n",
    "# mae_xgb = mean_absolute_error(y_test, y_pred)\n",
    "# mse_xgb = mean_squared_error(y_test, y_pred)\n",
    "\n",
    "# print(f'XGBoost')\n",
    "# print(f'R-squared : {r2_xgb}')\n",
    "# #0.9058221464142646\n",
    "# print(f'Mean Absolute Error (MAE): {mae_xgb}')\n",
    "# #3.4642327764894665\n",
    "# print(f'Mean Squared Error (MSE): {mse_xgb}')\n",
    "# #61.28700587445746"
   ]
  },
  {
   "cell_type": "code",
   "execution_count": 28,
   "id": "484d5302",
   "metadata": {
    "execution": {
     "iopub.execute_input": "2023-12-06T21:09:38.583386Z",
     "iopub.status.busy": "2023-12-06T21:09:38.582657Z",
     "iopub.status.idle": "2023-12-06T21:09:38.586891Z",
     "shell.execute_reply": "2023-12-06T21:09:38.586118Z"
    },
    "papermill": {
     "duration": 0.035844,
     "end_time": "2023-12-06T21:09:38.589199",
     "exception": false,
     "start_time": "2023-12-06T21:09:38.553355",
     "status": "completed"
    },
    "tags": []
   },
   "outputs": [],
   "source": [
    "# # Applying cross-validation on the XGBoost Regressor\n",
    "# cv_scores = cross_val_score(model_xgb, X_train, y_train, cv=5, scoring='r2')\n",
    "# print(\"Cross-validated R² scores:\", cv_scores)\n",
    "# print(\"Mean R²:\", cv_scores.mean())\n",
    "# print(\"Standard Deviation R²:\", cv_scores.std())\n",
    "\n",
    "# Cross-validated R² scores: [0.88526395 0.87498918 0.88501091 0.88427291 0.84313775]\n",
    "# Mean R²: 0.8745349385462236\n",
    "# Standard Deviation R²: 0.016159674128074612"
   ]
  },
  {
   "cell_type": "code",
   "execution_count": 29,
   "id": "a99a2bb9",
   "metadata": {
    "execution": {
     "iopub.execute_input": "2023-12-06T21:09:38.646879Z",
     "iopub.status.busy": "2023-12-06T21:09:38.646449Z",
     "iopub.status.idle": "2023-12-06T21:10:56.038371Z",
     "shell.execute_reply": "2023-12-06T21:10:56.037261Z"
    },
    "papermill": {
     "duration": 77.451182,
     "end_time": "2023-12-06T21:10:56.068167",
     "exception": false,
     "start_time": "2023-12-06T21:09:38.616985",
     "status": "completed"
    },
    "tags": []
   },
   "outputs": [
    {
     "name": "stdout",
     "output_type": "stream",
     "text": [
      "Bagging + XGBoost\n",
      "R-squared : 0.9089430468146474\n",
      "Mean Absolute Error (MAE): 3.409770951189172\n",
      "Mean Squared Error (MSE): 59.256054500122644\n"
     ]
    }
   ],
   "source": [
    "# Full Pipeline with Bagging and XGBoost\n",
    "model_bagging_xgb = Pipeline(steps=[\n",
    "    ('preprocessor', preprocessor),\n",
    "    ('regressor', BaggingRegressor(estimator=XGBRegressor(random_state=42), random_state=42))\n",
    "])\n",
    "\n",
    "# Fitting the model\n",
    "model_bagging_xgb.fit(X_train, y_train)\n",
    "\n",
    "# Making predictions on the test set\n",
    "y_pred_bagging = model_bagging_xgb.predict(X_test)\n",
    "\n",
    "# Evaluating the model\n",
    "r2_bagging_xgb = r2_score(y_test, y_pred_bagging)\n",
    "mae_bagging_xgb = mean_absolute_error(y_test, y_pred_bagging)\n",
    "mse_bagging_xgb = mean_squared_error(y_test, y_pred_bagging)\n",
    "\n",
    "print(f'Bagging + XGBoost')\n",
    "print(f'R-squared : {r2_bagging_xgb}')\n",
    "#0.9089430468146474\n",
    "print(f'Mean Absolute Error (MAE): {mae_bagging_xgb}')\n",
    "#3.4642327764894665\n",
    "print(f'Mean Squared Error (MSE): {mse_bagging_xgb}')\n",
    "#61.28700587445746"
   ]
  },
  {
   "cell_type": "code",
   "execution_count": 30,
   "id": "3230906e",
   "metadata": {
    "execution": {
     "iopub.execute_input": "2023-12-06T21:10:56.125084Z",
     "iopub.status.busy": "2023-12-06T21:10:56.124620Z",
     "iopub.status.idle": "2023-12-06T21:10:56.129987Z",
     "shell.execute_reply": "2023-12-06T21:10:56.128762Z"
    },
    "papermill": {
     "duration": 0.037479,
     "end_time": "2023-12-06T21:10:56.132998",
     "exception": false,
     "start_time": "2023-12-06T21:10:56.095519",
     "status": "completed"
    },
    "tags": []
   },
   "outputs": [],
   "source": [
    "# # Applying cross-validation on the XGBoost Regressor + Bagging\n",
    "# cv_scores = cross_val_score(model_bagging_xgb, X_train, y_train, cv=5, scoring='r2')\n",
    "# print(\"Cross-validated R² scores:\", cv_scores)\n",
    "# print(\"Mean R²:\", cv_scores.mean())\n",
    "# print(\"Standard Deviation R²:\", cv_scores.std())"
   ]
  },
  {
   "cell_type": "code",
   "execution_count": 31,
   "id": "b3113ed5",
   "metadata": {
    "execution": {
     "iopub.execute_input": "2023-12-06T21:10:56.194937Z",
     "iopub.status.busy": "2023-12-06T21:10:56.194109Z",
     "iopub.status.idle": "2023-12-06T21:10:56.199949Z",
     "shell.execute_reply": "2023-12-06T21:10:56.199006Z"
    },
    "papermill": {
     "duration": 0.037883,
     "end_time": "2023-12-06T21:10:56.202414",
     "exception": false,
     "start_time": "2023-12-06T21:10:56.164531",
     "status": "completed"
    },
    "tags": []
   },
   "outputs": [],
   "source": [
    "# # HPT for BaggingRegressor with XGBoost \n",
    "# model_bagging_xgb = Pipeline(steps=[\n",
    "#     ('preprocessor', preprocessor),\n",
    "#     ('regressor', BaggingRegressor(estimator=XGBRegressor(random_state=42), random_state=42))\n",
    "# ])\n",
    "\n",
    "# # Define the parameter grid for hyperparameter tuning\n",
    "# param_grid_bagging_xgb = {\n",
    "#     'regressor__n_estimators': [50, 100, 200],\n",
    "#     'regressor__estimator__learning_rate': [0.01, 0.1, 0.2],\n",
    "#     'regressor__estimator__max_depth': [3, 6, 9],\n",
    "#     'regressor__estimator__subsample': [0.5, 0.7, 0.9],\n",
    "#     'regressor__estimator__colsample_bytree': [0.5, 0.7, 0.9],\n",
    "#     'regressor__max_samples': [0.5, 0.7, 0.9],\n",
    "#     'regressor__max_features': [0.5, 0.7, 0.9],\n",
    "#     'regressor__bootstrap': [True, False],\n",
    "#     # Add other hyperparameters for tuning as needed\n",
    "# }\n",
    "\n",
    "# # Use GridSearchCV for hyperparameter tuning\n",
    "# grid_search_bagging_xgb = GridSearchCV(model_bagging_xgb, param_grid_bagging_xgb, cv=5, scoring='r2', verbose=2, n_jobs=-1)\n",
    "\n",
    "# # Fit the model with hyperparameter tuning\n",
    "# grid_search_bagging_xgb.fit(X_train, y_train)\n",
    "\n",
    "# # Print the best hyperparameters\n",
    "# print(\"Best Hyperparameters (Bagging + XGBoost):\", grid_search_bagging_xgb.best_params_)\n",
    "\n",
    "# # Predictions on the test set with the best model\n",
    "# y_pred_tuned_bagging_xgb = grid_search_bagging_xgb.predict(X_test)\n",
    "\n",
    "# # Evaluate the tuned model\n",
    "# r2_tuned_bagging_xgb = r2_score(y_test, y_pred_tuned_bagging_xgb)\n",
    "# print(f'R-squared (Tuned Bagging + XGBoost): {r2_tuned_bagging_xgb}')\n",
    "\n",
    "# # Ran for more than 7 hours"
   ]
  },
  {
   "cell_type": "markdown",
   "id": "702bf6a5",
   "metadata": {
    "papermill": {
     "duration": 0.027333,
     "end_time": "2023-12-06T21:10:56.256874",
     "exception": false,
     "start_time": "2023-12-06T21:10:56.229541",
     "status": "completed"
    },
    "tags": []
   },
   "source": [
    "## Scores of different models in different metrics\n",
    "\n",
    "| Sl. No. | Model | R2 Score | Mean Absolute Error (MAE) | Mean Squared Error (MSE) |\n",
    "|-----------------|-----------------|-----------------|-----------------|-----------------|\n",
    "| 1    | Linear Regressor | 0.4590424849963851 | 11.45050848135547 | 352.03251228991786|\n",
    "| 2    | Decision Tree Regressor | 0.8269670612605542 | 4.763699142857144 | 112.6025952942857 |\n",
    "| 3    | Random Forest Regressor | 0.8937360943727466 | 3.7518812928571426 | 69.15210275515035 |\n",
    "| 4    | Random Forest Regressor with HPT | 0.905894511224275 | - | - |\n",
    "| 5    | XGBoost Regressor | 0.9058221464142646 | 3.4642327764894665 | 61.28700587445746 |\n",
    "| 6    | XGBoost Regressor with Bagging | 0.9089430468146474 | 3.409770951189172 | 59.256054500122644 |\n",
    "| 7    | XGBoost Regressor with Bagging and HPT | - | - | - |"
   ]
  },
  {
   "cell_type": "code",
   "execution_count": 32,
   "id": "f20f9634",
   "metadata": {
    "execution": {
     "iopub.execute_input": "2023-12-06T21:10:56.314099Z",
     "iopub.status.busy": "2023-12-06T21:10:56.313227Z",
     "iopub.status.idle": "2023-12-06T21:10:56.846063Z",
     "shell.execute_reply": "2023-12-06T21:10:56.845152Z"
    },
    "papermill": {
     "duration": 0.564245,
     "end_time": "2023-12-06T21:10:56.848784",
     "exception": false,
     "start_time": "2023-12-06T21:10:56.284539",
     "status": "completed"
    },
    "tags": []
   },
   "outputs": [],
   "source": [
    "#Running on test data now\n",
    "test_pred = model_bagging_xgb.predict(test_data)"
   ]
  },
  {
   "cell_type": "code",
   "execution_count": 33,
   "id": "6f6f41f7",
   "metadata": {
    "execution": {
     "iopub.execute_input": "2023-12-06T21:10:56.906493Z",
     "iopub.status.busy": "2023-12-06T21:10:56.906063Z",
     "iopub.status.idle": "2023-12-06T21:10:57.083765Z",
     "shell.execute_reply": "2023-12-06T21:10:57.082210Z"
    },
    "papermill": {
     "duration": 0.209454,
     "end_time": "2023-12-06T21:10:57.086658",
     "exception": false,
     "start_time": "2023-12-06T21:10:56.877204",
     "status": "completed"
    },
    "tags": []
   },
   "outputs": [],
   "source": [
    "submission = pd.DataFrame({\"ID\": np.arange(1,50001), \n",
    "                           \"total_amount\": test_pred}) \n",
    "\n",
    "submission.to_csv('submission.csv',index=False)"
   ]
  },
  {
   "cell_type": "markdown",
   "id": "7a01f591",
   "metadata": {
    "papermill": {
     "duration": 0.030144,
     "end_time": "2023-12-06T21:10:57.144747",
     "exception": false,
     "start_time": "2023-12-06T21:10:57.114603",
     "status": "completed"
    },
    "tags": []
   },
   "source": [
    "# Old school method"
   ]
  },
  {
   "cell_type": "code",
   "execution_count": 34,
   "id": "a2299d4f",
   "metadata": {
    "execution": {
     "iopub.execute_input": "2023-12-06T21:10:57.221999Z",
     "iopub.status.busy": "2023-12-06T21:10:57.221472Z",
     "iopub.status.idle": "2023-12-06T21:10:57.227174Z",
     "shell.execute_reply": "2023-12-06T21:10:57.225950Z"
    },
    "papermill": {
     "duration": 0.051091,
     "end_time": "2023-12-06T21:10:57.230107",
     "exception": false,
     "start_time": "2023-12-06T21:10:57.179016",
     "status": "completed"
    },
    "tags": []
   },
   "outputs": [],
   "source": [
    "# #Removing some of the irrelevant columns\n",
    "# train_data_copy = train_data_copy.drop(columns=['VendorID', 'tpep_pickup_datetime', 'tpep_dropoff_datetime', 'store_and_fwd_flag', 'RatecodeID', 'PULocationID', 'DOLocationID'])\n",
    "# test_data_copy = test_data_copy.drop(columns=['VendorID', 'tpep_pickup_datetime', 'tpep_dropoff_datetime', 'store_and_fwd_flag', 'RatecodeID', 'PULocationID', 'DOLocationID'])"
   ]
  },
  {
   "cell_type": "code",
   "execution_count": 35,
   "id": "df113ef1",
   "metadata": {
    "execution": {
     "iopub.execute_input": "2023-12-06T21:10:57.293824Z",
     "iopub.status.busy": "2023-12-06T21:10:57.293428Z",
     "iopub.status.idle": "2023-12-06T21:10:57.298536Z",
     "shell.execute_reply": "2023-12-06T21:10:57.297216Z"
    },
    "papermill": {
     "duration": 0.040976,
     "end_time": "2023-12-06T21:10:57.301009",
     "exception": false,
     "start_time": "2023-12-06T21:10:57.260033",
     "status": "completed"
    },
    "tags": []
   },
   "outputs": [],
   "source": [
    "# train_data_copy.isnull().sum(), test_data_copy.isnull().sum()"
   ]
  },
  {
   "cell_type": "code",
   "execution_count": 36,
   "id": "3793a1ee",
   "metadata": {
    "execution": {
     "iopub.execute_input": "2023-12-06T21:10:57.358480Z",
     "iopub.status.busy": "2023-12-06T21:10:57.358009Z",
     "iopub.status.idle": "2023-12-06T21:10:57.363384Z",
     "shell.execute_reply": "2023-12-06T21:10:57.362167Z"
    },
    "papermill": {
     "duration": 0.037487,
     "end_time": "2023-12-06T21:10:57.366186",
     "exception": false,
     "start_time": "2023-12-06T21:10:57.328699",
     "status": "completed"
    },
    "tags": []
   },
   "outputs": [],
   "source": [
    "# #Handling all the missing values in both train and test datasets with SimpleImputer\n",
    "# from sklearn.impute import SimpleImputer\n",
    "\n",
    "# #Making a list of all columns to with missing values\n",
    "# incomplete_columns = ['passenger_count', 'congestion_surcharge', 'Airport_fee']\n",
    "\n",
    "# imputer = SimpleImputer(strategy = 'mean')\n",
    "\n",
    "# # Fitting the imputer for test and train sets both\n",
    "# train_data_copy[incomplete_columns] = imputer.fit_transform(train_data_copy[incomplete_columns])\n",
    "# test_data_copy[incomplete_columns] = imputer.fit_transform(test_data_copy[incomplete_columns])"
   ]
  },
  {
   "cell_type": "code",
   "execution_count": 37,
   "id": "327102c3",
   "metadata": {
    "execution": {
     "iopub.execute_input": "2023-12-06T21:10:57.437651Z",
     "iopub.status.busy": "2023-12-06T21:10:57.436776Z",
     "iopub.status.idle": "2023-12-06T21:10:57.442542Z",
     "shell.execute_reply": "2023-12-06T21:10:57.441489Z"
    },
    "papermill": {
     "duration": 0.042325,
     "end_time": "2023-12-06T21:10:57.445418",
     "exception": false,
     "start_time": "2023-12-06T21:10:57.403093",
     "status": "completed"
    },
    "tags": []
   },
   "outputs": [],
   "source": [
    "# #Confirming that all null values have been handled with train and test datasets\n",
    "# train_data_copy.isnull().sum()"
   ]
  },
  {
   "cell_type": "code",
   "execution_count": 38,
   "id": "5a05b610",
   "metadata": {
    "execution": {
     "iopub.execute_input": "2023-12-06T21:10:57.505386Z",
     "iopub.status.busy": "2023-12-06T21:10:57.504543Z",
     "iopub.status.idle": "2023-12-06T21:10:57.509698Z",
     "shell.execute_reply": "2023-12-06T21:10:57.508673Z"
    },
    "papermill": {
     "duration": 0.038494,
     "end_time": "2023-12-06T21:10:57.512491",
     "exception": false,
     "start_time": "2023-12-06T21:10:57.473997",
     "status": "completed"
    },
    "tags": []
   },
   "outputs": [],
   "source": [
    "# train_data_copy.info()"
   ]
  },
  {
   "cell_type": "code",
   "execution_count": 39,
   "id": "3e353028",
   "metadata": {
    "execution": {
     "iopub.execute_input": "2023-12-06T21:10:57.572696Z",
     "iopub.status.busy": "2023-12-06T21:10:57.572198Z",
     "iopub.status.idle": "2023-12-06T21:10:57.578383Z",
     "shell.execute_reply": "2023-12-06T21:10:57.577026Z"
    },
    "papermill": {
     "duration": 0.040538,
     "end_time": "2023-12-06T21:10:57.580959",
     "exception": false,
     "start_time": "2023-12-06T21:10:57.540421",
     "status": "completed"
    },
    "tags": []
   },
   "outputs": [],
   "source": [
    "# import matplotlib.pyplot as plt\n",
    "\n",
    "# #Checking the type and count of each unique value of the columnn 'payment_types' by plotting a histogram\n",
    "# plt.figure(figsize=(6, 3))\n",
    "# train_data_copy['payment_type'].value_counts().plot(kind='bar', color='orange', edgecolor='black')\n",
    "\n",
    "# # Adding labels and title\n",
    "# plt.title('Histogram of Payment Types')\n",
    "# plt.xlabel('Payment Type')\n",
    "# plt.ylabel('Count')\n",
    "\n",
    "# # Display the plot\n",
    "# plt.show()"
   ]
  },
  {
   "cell_type": "code",
   "execution_count": 40,
   "id": "803b78d1",
   "metadata": {
    "execution": {
     "iopub.execute_input": "2023-12-06T21:10:57.649309Z",
     "iopub.status.busy": "2023-12-06T21:10:57.648121Z",
     "iopub.status.idle": "2023-12-06T21:10:57.654417Z",
     "shell.execute_reply": "2023-12-06T21:10:57.652772Z"
    },
    "papermill": {
     "duration": 0.045151,
     "end_time": "2023-12-06T21:10:57.657583",
     "exception": false,
     "start_time": "2023-12-06T21:10:57.612432",
     "status": "completed"
    },
    "tags": []
   },
   "outputs": [],
   "source": [
    "# #Encoding the 'payment_types' column with Label Encoder\n",
    "# from sklearn.preprocessing import LabelEncoder\n",
    "\n",
    "# label_encoder = LabelEncoder()\n",
    "\n",
    "# train_data_copy['payment_type_encoded'] = label_encoder.fit_transform(train_data_copy['payment_type'])\n",
    "# test_data_copy['payment_type_encoded'] = label_encoder.fit_transform(test_data_copy['payment_type'])"
   ]
  },
  {
   "cell_type": "code",
   "execution_count": 41,
   "id": "f6fb8003",
   "metadata": {
    "execution": {
     "iopub.execute_input": "2023-12-06T21:10:57.718308Z",
     "iopub.status.busy": "2023-12-06T21:10:57.717442Z",
     "iopub.status.idle": "2023-12-06T21:10:57.723386Z",
     "shell.execute_reply": "2023-12-06T21:10:57.722190Z"
    },
    "papermill": {
     "duration": 0.0406,
     "end_time": "2023-12-06T21:10:57.726276",
     "exception": false,
     "start_time": "2023-12-06T21:10:57.685676",
     "status": "completed"
    },
    "tags": []
   },
   "outputs": [],
   "source": [
    "# train_data_copy['payment_type_encoded'].value_counts()"
   ]
  },
  {
   "cell_type": "code",
   "execution_count": 42,
   "id": "49f3ea4e",
   "metadata": {
    "execution": {
     "iopub.execute_input": "2023-12-06T21:10:57.786585Z",
     "iopub.status.busy": "2023-12-06T21:10:57.786057Z",
     "iopub.status.idle": "2023-12-06T21:10:57.791698Z",
     "shell.execute_reply": "2023-12-06T21:10:57.790385Z"
    },
    "papermill": {
     "duration": 0.040206,
     "end_time": "2023-12-06T21:10:57.794425",
     "exception": false,
     "start_time": "2023-12-06T21:10:57.754219",
     "status": "completed"
    },
    "tags": []
   },
   "outputs": [],
   "source": [
    "# #Removing the original categorial column 'payment_type'\n",
    "# train_data_copy = train_data_copy.drop(columns=['payment_type'])\n",
    "# test_data_copy = test_data_copy.drop(columns=['payment_type'])"
   ]
  },
  {
   "cell_type": "code",
   "execution_count": 43,
   "id": "8d4eb6d5",
   "metadata": {
    "execution": {
     "iopub.execute_input": "2023-12-06T21:10:57.852173Z",
     "iopub.status.busy": "2023-12-06T21:10:57.850936Z",
     "iopub.status.idle": "2023-12-06T21:10:57.856085Z",
     "shell.execute_reply": "2023-12-06T21:10:57.855272Z"
    },
    "papermill": {
     "duration": 0.036698,
     "end_time": "2023-12-06T21:10:57.858493",
     "exception": false,
     "start_time": "2023-12-06T21:10:57.821795",
     "status": "completed"
    },
    "tags": []
   },
   "outputs": [],
   "source": [
    "# #Confirming removal of the 'payment_type' column\n",
    "# train_data_copy.head()"
   ]
  },
  {
   "cell_type": "code",
   "execution_count": 44,
   "id": "e262b8f5",
   "metadata": {
    "execution": {
     "iopub.execute_input": "2023-12-06T21:10:57.916049Z",
     "iopub.status.busy": "2023-12-06T21:10:57.915008Z",
     "iopub.status.idle": "2023-12-06T21:10:57.920419Z",
     "shell.execute_reply": "2023-12-06T21:10:57.919635Z"
    },
    "papermill": {
     "duration": 0.03731,
     "end_time": "2023-12-06T21:10:57.922797",
     "exception": false,
     "start_time": "2023-12-06T21:10:57.885487",
     "status": "completed"
    },
    "tags": []
   },
   "outputs": [],
   "source": [
    "# import seaborn as sns\n",
    "\n",
    "# #Correlation Matrix\n",
    "# correlation_matrix = train_data_copy.corr()\n",
    "\n",
    "# total_amount_correlation = correlation_matrix['total_amount']\n",
    "\n",
    "# sorted_correlation = total_amount_correlation.abs().sort_values(ascending=False)\n",
    "\n",
    "# top_features = sorted_correlation.head(15) \n",
    "\n",
    "# subset_matrix = train_data_copy[top_features.index].corr()\n",
    "\n",
    "# plt.figure(figsize=(8, 6))\n",
    "# sns.heatmap(subset_matrix, annot=True, cmap='coolwarm', fmt=\".2f\", linewidths=.5, square=True)\n",
    "# plt.title('Correlation Matrix with Total Amount (Top Features)')\n",
    "# plt.show()"
   ]
  },
  {
   "cell_type": "code",
   "execution_count": 45,
   "id": "4ed9cb4e",
   "metadata": {
    "execution": {
     "iopub.execute_input": "2023-12-06T21:10:57.980505Z",
     "iopub.status.busy": "2023-12-06T21:10:57.979676Z",
     "iopub.status.idle": "2023-12-06T21:10:57.985231Z",
     "shell.execute_reply": "2023-12-06T21:10:57.984362Z"
    },
    "papermill": {
     "duration": 0.037707,
     "end_time": "2023-12-06T21:10:57.987824",
     "exception": false,
     "start_time": "2023-12-06T21:10:57.950117",
     "status": "completed"
    },
    "tags": []
   },
   "outputs": [],
   "source": [
    "# from sklearn.model_selection import train_test_split\n",
    "# from sklearn.metrics import r2_score\n",
    "\n",
    "# # Features (X) and target variable (y)\n",
    "# features = train_data_copy.drop(columns=['total_amount'])\n",
    "# target = train_data_copy['total_amount']\n",
    "\n",
    "# # Splitting the data into training and testing sets\n",
    "# X_train, X_test, y_train, y_test = train_test_split(features, target, test_size=0.2, random_state=42)"
   ]
  },
  {
   "cell_type": "code",
   "execution_count": 46,
   "id": "3a63bdf2",
   "metadata": {
    "execution": {
     "iopub.execute_input": "2023-12-06T21:10:58.047017Z",
     "iopub.status.busy": "2023-12-06T21:10:58.045968Z",
     "iopub.status.idle": "2023-12-06T21:10:58.051737Z",
     "shell.execute_reply": "2023-12-06T21:10:58.050825Z"
    },
    "papermill": {
     "duration": 0.038771,
     "end_time": "2023-12-06T21:10:58.054451",
     "exception": false,
     "start_time": "2023-12-06T21:10:58.015680",
     "status": "completed"
    },
    "tags": []
   },
   "outputs": [],
   "source": [
    "# from sklearn.linear_model import LinearRegression\n",
    "\n",
    "# # Create a linear regression model\n",
    "# model_lr = LinearRegression()\n",
    "\n",
    "# # Fit the model to the training data\n",
    "# model_lr.fit(X_train, y_train)\n",
    "\n",
    "# # Predictions on the test set\n",
    "# y_pred = model.predict(X_test)\n",
    "\n",
    "# # Evaluate the model\n",
    "# r2 = r2_score(y_test, y_pred)\n",
    "\n",
    "# print(f'R_squared: {r2}')\n",
    "\n",
    "# # Plotting predictions vs. actual values\n",
    "# plt.figure(figsize=(10, 6))\n",
    "# plt.scatter(y_test, y_pred)\n",
    "# plt.xlabel('Actual Total Amount')\n",
    "# plt.ylabel('Predicted Total Amount')\n",
    "# plt.title('Linear Regression: Predicted vs. Actual Total Amount')\n",
    "# plt.show()"
   ]
  },
  {
   "cell_type": "code",
   "execution_count": 47,
   "id": "370fe82b",
   "metadata": {
    "execution": {
     "iopub.execute_input": "2023-12-06T21:10:58.113163Z",
     "iopub.status.busy": "2023-12-06T21:10:58.112355Z",
     "iopub.status.idle": "2023-12-06T21:10:58.117225Z",
     "shell.execute_reply": "2023-12-06T21:10:58.116383Z"
    },
    "papermill": {
     "duration": 0.036074,
     "end_time": "2023-12-06T21:10:58.119650",
     "exception": false,
     "start_time": "2023-12-06T21:10:58.083576",
     "status": "completed"
    },
    "tags": []
   },
   "outputs": [],
   "source": [
    "# #Running Linear Regression on test data now\n",
    "# test_lr = model_lr.predict(test_data_copy)\n",
    "\n",
    "# test_lr"
   ]
  },
  {
   "cell_type": "code",
   "execution_count": 48,
   "id": "a43b4fdf",
   "metadata": {
    "execution": {
     "iopub.execute_input": "2023-12-06T21:10:58.184015Z",
     "iopub.status.busy": "2023-12-06T21:10:58.183223Z",
     "iopub.status.idle": "2023-12-06T21:10:58.187900Z",
     "shell.execute_reply": "2023-12-06T21:10:58.186632Z"
    },
    "papermill": {
     "duration": 0.043588,
     "end_time": "2023-12-06T21:10:58.190762",
     "exception": false,
     "start_time": "2023-12-06T21:10:58.147174",
     "status": "completed"
    },
    "tags": []
   },
   "outputs": [],
   "source": [
    "# test_lr = pd.DataFrame({'ID': np.arange(1,50001), 'total_amount': test_lr})\n",
    "# test_lr.to_csv(\"submission.csv\", index=False)"
   ]
  },
  {
   "cell_type": "code",
   "execution_count": 49,
   "id": "521f9b0a",
   "metadata": {
    "execution": {
     "iopub.execute_input": "2023-12-06T21:10:58.251574Z",
     "iopub.status.busy": "2023-12-06T21:10:58.250566Z",
     "iopub.status.idle": "2023-12-06T21:10:58.256120Z",
     "shell.execute_reply": "2023-12-06T21:10:58.254979Z"
    },
    "papermill": {
     "duration": 0.037388,
     "end_time": "2023-12-06T21:10:58.258867",
     "exception": false,
     "start_time": "2023-12-06T21:10:58.221479",
     "status": "completed"
    },
    "tags": []
   },
   "outputs": [],
   "source": [
    "# submission = pd.DataFrame({\"ID\": np.arange(1,50001), \n",
    "#                            \"total_amount\": test_lr}) \n",
    "\n",
    "# submission.to_csv('submission.csv',index=False)"
   ]
  },
  {
   "cell_type": "code",
   "execution_count": 50,
   "id": "6c0a461f",
   "metadata": {
    "execution": {
     "iopub.execute_input": "2023-12-06T21:10:58.317507Z",
     "iopub.status.busy": "2023-12-06T21:10:58.316124Z",
     "iopub.status.idle": "2023-12-06T21:10:58.322153Z",
     "shell.execute_reply": "2023-12-06T21:10:58.321098Z"
    },
    "papermill": {
     "duration": 0.037815,
     "end_time": "2023-12-06T21:10:58.324712",
     "exception": false,
     "start_time": "2023-12-06T21:10:58.286897",
     "status": "completed"
    },
    "tags": []
   },
   "outputs": [],
   "source": [
    "# from sklearn.tree import DecisionTreeRegressor\n",
    "\n",
    "# # Create a Decision Tree regressor model\n",
    "# model_dtr = DecisionTreeRegressor(random_state=42)\n",
    "\n",
    "# # Fit the model to the training data\n",
    "# model_dtr.fit(X_train, y_train)\n",
    "\n",
    "# # Predictions on the test set\n",
    "# y_pred = model_dtr.predict(X_test)\n",
    "\n",
    "# # Evaluate the model\n",
    "# r2 = r2_score(y_test, y_pred)\n",
    "\n",
    "# print(f'R_squared: {r2}')"
   ]
  },
  {
   "cell_type": "code",
   "execution_count": 51,
   "id": "0b5c6f51",
   "metadata": {
    "execution": {
     "iopub.execute_input": "2023-12-06T21:10:58.385224Z",
     "iopub.status.busy": "2023-12-06T21:10:58.384479Z",
     "iopub.status.idle": "2023-12-06T21:10:58.389058Z",
     "shell.execute_reply": "2023-12-06T21:10:58.387877Z"
    },
    "papermill": {
     "duration": 0.038699,
     "end_time": "2023-12-06T21:10:58.391900",
     "exception": false,
     "start_time": "2023-12-06T21:10:58.353201",
     "status": "completed"
    },
    "tags": []
   },
   "outputs": [],
   "source": [
    "# #Running Decision Tree Regressor on test data now\n",
    "# test_dtr = model_dtr.predict(test_data_copy)\n",
    "\n",
    "# test_dtr"
   ]
  },
  {
   "cell_type": "code",
   "execution_count": 52,
   "id": "6fc4e2c2",
   "metadata": {
    "execution": {
     "iopub.execute_input": "2023-12-06T21:10:58.448752Z",
     "iopub.status.busy": "2023-12-06T21:10:58.447613Z",
     "iopub.status.idle": "2023-12-06T21:10:58.453153Z",
     "shell.execute_reply": "2023-12-06T21:10:58.452190Z"
    },
    "papermill": {
     "duration": 0.036599,
     "end_time": "2023-12-06T21:10:58.455780",
     "exception": false,
     "start_time": "2023-12-06T21:10:58.419181",
     "status": "completed"
    },
    "tags": []
   },
   "outputs": [],
   "source": [
    "# submission = pd.DataFrame({\"ID\": np.arange(1,50001), \n",
    "#                            \"total_amount\": test_dtr}) \n",
    "\n",
    "# submission.to_csv('submission.csv',index=False)"
   ]
  },
  {
   "cell_type": "code",
   "execution_count": 53,
   "id": "1f937c83",
   "metadata": {
    "execution": {
     "iopub.execute_input": "2023-12-06T21:10:58.514381Z",
     "iopub.status.busy": "2023-12-06T21:10:58.513278Z",
     "iopub.status.idle": "2023-12-06T21:10:58.519353Z",
     "shell.execute_reply": "2023-12-06T21:10:58.517926Z"
    },
    "papermill": {
     "duration": 0.037906,
     "end_time": "2023-12-06T21:10:58.522170",
     "exception": false,
     "start_time": "2023-12-06T21:10:58.484264",
     "status": "completed"
    },
    "tags": []
   },
   "outputs": [],
   "source": [
    "# from sklearn.ensemble import RandomForestRegressor\n",
    "\n",
    "# # Create a Random Forest regressor model\n",
    "# model_rfr = RandomForestRegressor(random_state=42)\n",
    "\n",
    "# # Fit the model to the training data\n",
    "# model_rfr.fit(X_train, y_train)\n",
    "\n",
    "# # Predictions on the test set\n",
    "# y_pred = model_rfr.predict(X_test)\n",
    "\n",
    "# # Evaluate the Random Forest model\n",
    "# rf_r2 = r2_score(y_test, y_pred)\n",
    "\n",
    "# print(f'Random Forest - R-squared: {rf_r2}')"
   ]
  },
  {
   "cell_type": "code",
   "execution_count": 54,
   "id": "ec1b25ab",
   "metadata": {
    "execution": {
     "iopub.execute_input": "2023-12-06T21:10:58.578541Z",
     "iopub.status.busy": "2023-12-06T21:10:58.578143Z",
     "iopub.status.idle": "2023-12-06T21:10:58.582177Z",
     "shell.execute_reply": "2023-12-06T21:10:58.581352Z"
    },
    "papermill": {
     "duration": 0.035097,
     "end_time": "2023-12-06T21:10:58.584534",
     "exception": false,
     "start_time": "2023-12-06T21:10:58.549437",
     "status": "completed"
    },
    "tags": []
   },
   "outputs": [],
   "source": [
    "# #Running Random Forest Regressor on test data now\n",
    "# test_rfr = model_rfr.predict(test_data_copy)\n",
    "\n",
    "# test_rfr"
   ]
  },
  {
   "cell_type": "code",
   "execution_count": 55,
   "id": "fc77d032",
   "metadata": {
    "execution": {
     "iopub.execute_input": "2023-12-06T21:10:58.640870Z",
     "iopub.status.busy": "2023-12-06T21:10:58.639728Z",
     "iopub.status.idle": "2023-12-06T21:10:58.644156Z",
     "shell.execute_reply": "2023-12-06T21:10:58.643356Z"
    },
    "papermill": {
     "duration": 0.03492,
     "end_time": "2023-12-06T21:10:58.646566",
     "exception": false,
     "start_time": "2023-12-06T21:10:58.611646",
     "status": "completed"
    },
    "tags": []
   },
   "outputs": [],
   "source": [
    "# submission = pd.DataFrame({\"ID\": np.arange(1,50001), \n",
    "#                            \"total_amount\": test_rfr}) \n",
    "\n",
    "# submission.to_csv('submission.csv',index=False)"
   ]
  },
  {
   "cell_type": "code",
   "execution_count": 56,
   "id": "e45a191f",
   "metadata": {
    "execution": {
     "iopub.execute_input": "2023-12-06T21:10:58.702848Z",
     "iopub.status.busy": "2023-12-06T21:10:58.702197Z",
     "iopub.status.idle": "2023-12-06T21:10:58.707121Z",
     "shell.execute_reply": "2023-12-06T21:10:58.706003Z"
    },
    "papermill": {
     "duration": 0.036448,
     "end_time": "2023-12-06T21:10:58.709711",
     "exception": false,
     "start_time": "2023-12-06T21:10:58.673263",
     "status": "completed"
    },
    "tags": []
   },
   "outputs": [],
   "source": [
    "# from sklearn.svm import SVR\n",
    "# from sklearn.preprocessing import StandardScaler\n",
    "\n",
    "# # Scale the features using StandardScaler\n",
    "# scaler = StandardScaler()\n",
    "# X_train_scaled = scaler.fit_transform(X_train)\n",
    "# X_test_scaled = scaler.transform(X_test)\n",
    "\n",
    "# # Create an SVM regressor model\n",
    "# svm_model = SVR()\n",
    "\n",
    "# # Fit the model to the scaled training data\n",
    "# svm_model.fit(X_train_scaled, y_train)\n",
    "\n",
    "# # Predictions on the scaled test set\n",
    "# svm_y_pred = svm_model.predict(X_test_scaled)\n",
    "\n",
    "# # Evaluate the SVM model\n",
    "# svm_mse = mean_squared_error(y_test, svm_y_pred)\n",
    "# svm_r2 = r2_score(y_test, svm_y_pred)\n",
    "\n",
    "# print(f'SVM - Mean Squared Error: {svm_mse:.2f}')\n",
    "# print(f'SVM - R-squared: {svm_r2:.2f}')\n"
   ]
  },
  {
   "cell_type": "code",
   "execution_count": 57,
   "id": "8144aa5f",
   "metadata": {
    "execution": {
     "iopub.execute_input": "2023-12-06T21:10:58.765540Z",
     "iopub.status.busy": "2023-12-06T21:10:58.765120Z",
     "iopub.status.idle": "2023-12-06T21:10:58.770204Z",
     "shell.execute_reply": "2023-12-06T21:10:58.769150Z"
    },
    "papermill": {
     "duration": 0.035613,
     "end_time": "2023-12-06T21:10:58.772775",
     "exception": false,
     "start_time": "2023-12-06T21:10:58.737162",
     "status": "completed"
    },
    "tags": []
   },
   "outputs": [],
   "source": [
    "# from sklearn.model_selection import train_test_split\n",
    "# from sklearn.dummy import DummyRegressor\n",
    "\n",
    "# X = train_data.drop(columns=['total_amount'])\n",
    "# y = train_data['total_amount']\n",
    "# dummy_regressor = DummyRegressor(strategy='mean')\n",
    "\n",
    "# # Fitting the Dummy Regressor on the training data\n",
    "# dummy_regressor.fit(X,y)\n",
    "\n",
    "# X_test=pd.read_csv(\"/kaggle/input/taxi-fare-guru-total-amount-prediction-challenge/test.csv\")\n",
    "# # Make predictions using the Dummy Regressor\n",
    "# y_pred = dummy_regressor.predict(X_test)"
   ]
  },
  {
   "cell_type": "code",
   "execution_count": 58,
   "id": "0dead708",
   "metadata": {
    "execution": {
     "iopub.execute_input": "2023-12-06T21:10:58.828911Z",
     "iopub.status.busy": "2023-12-06T21:10:58.828518Z",
     "iopub.status.idle": "2023-12-06T21:10:58.833053Z",
     "shell.execute_reply": "2023-12-06T21:10:58.832072Z"
    },
    "papermill": {
     "duration": 0.035939,
     "end_time": "2023-12-06T21:10:58.835400",
     "exception": false,
     "start_time": "2023-12-06T21:10:58.799461",
     "status": "completed"
    },
    "tags": []
   },
   "outputs": [],
   "source": [
    "# submission = pd.DataFrame({\"ID\": np.arange(1,50001), \n",
    "#                            \"total_amount\": y_pred}) \n",
    "\n",
    "# submission.to_csv('submission.csv',index=False)"
   ]
  }
 ],
 "metadata": {
  "kaggle": {
   "accelerator": "none",
   "dataSources": [
    {
     "databundleVersionId": 6604167,
     "sourceId": 61246,
     "sourceType": "competition"
    }
   ],
   "dockerImageVersionId": 30558,
   "isGpuEnabled": false,
   "isInternetEnabled": true,
   "language": "python",
   "sourceType": "notebook"
  },
  "kernelspec": {
   "display_name": "Python 3",
   "language": "python",
   "name": "python3"
  },
  "language_info": {
   "codemirror_mode": {
    "name": "ipython",
    "version": 3
   },
   "file_extension": ".py",
   "mimetype": "text/x-python",
   "name": "python",
   "nbconvert_exporter": "python",
   "pygments_lexer": "ipython3",
   "version": "3.10.12"
  },
  "papermill": {
   "default_parameters": {},
   "duration": 95.591363,
   "end_time": "2023-12-06T21:10:59.586217",
   "environment_variables": {},
   "exception": null,
   "input_path": "__notebook__.ipynb",
   "output_path": "__notebook__.ipynb",
   "parameters": {},
   "start_time": "2023-12-06T21:09:23.994854",
   "version": "2.4.0"
  }
 },
 "nbformat": 4,
 "nbformat_minor": 5
}
